{
 "cells": [
  {
   "cell_type": "markdown",
   "metadata": {},
   "source": [
    "## Final Project Submission\n",
    "\n",
    "Please fill out:\n",
    "* Student name: Kregg Jackson \n",
    "* Student pace: self paced\n",
    "* Instructor name: Abhineet Kulkarni\n",
    "* Blog post URL: https://medium.com/@kr3ggjac.cj/data-science-effect-on-professional-sports-b11d3dc3e350\n"
   ]
  },
  {
   "cell_type": "markdown",
   "metadata": {},
   "source": [
    "# Kansas City House Data Analysis\n",
    "## Project Goal\n",
    "With analysis of each column’s relationship with price I can suggest what renovations have the greatest impact on sales.\n"
   ]
  },
  {
   "cell_type": "code",
   "execution_count": 49,
   "metadata": {},
   "outputs": [],
   "source": [
    "# Imports\n",
    "import pandas as pd\n",
    "import os,glob\n",
    "import numpy as np\n",
    "import matplotlib.pyplot as plt\n",
    "%matplotlib inline\n",
    "import statsmodels.api as sm\n",
    "import seaborn as sns\n",
    "from sklearn.model_selection import train_test_split\n",
    "from sklearn.preprocessing import StandardScaler\n",
    "from sklearn.metrics import mean_squared_error\n",
    "from sklearn.linear_model import LinearRegression"
   ]
  },
  {
   "cell_type": "code",
   "execution_count": 2,
   "metadata": {
    "scrolled": false
   },
   "outputs": [
    {
     "data": {
      "text/html": [
       "<div>\n",
       "<style scoped>\n",
       "    .dataframe tbody tr th:only-of-type {\n",
       "        vertical-align: middle;\n",
       "    }\n",
       "\n",
       "    .dataframe tbody tr th {\n",
       "        vertical-align: top;\n",
       "    }\n",
       "\n",
       "    .dataframe thead th {\n",
       "        text-align: right;\n",
       "    }\n",
       "</style>\n",
       "<table border=\"1\" class=\"dataframe\">\n",
       "  <thead>\n",
       "    <tr style=\"text-align: right;\">\n",
       "      <th></th>\n",
       "      <th>date</th>\n",
       "      <th>price</th>\n",
       "      <th>bedrooms</th>\n",
       "      <th>bathrooms</th>\n",
       "      <th>sqft_living</th>\n",
       "      <th>sqft_lot</th>\n",
       "      <th>floors</th>\n",
       "      <th>waterfront</th>\n",
       "      <th>view</th>\n",
       "      <th>condition</th>\n",
       "      <th>grade</th>\n",
       "      <th>sqft_above</th>\n",
       "      <th>sqft_basement</th>\n",
       "      <th>yr_built</th>\n",
       "      <th>yr_renovated</th>\n",
       "      <th>zipcode</th>\n",
       "      <th>lat</th>\n",
       "      <th>long</th>\n",
       "      <th>sqft_living15</th>\n",
       "      <th>sqft_lot15</th>\n",
       "    </tr>\n",
       "    <tr>\n",
       "      <th>id</th>\n",
       "      <th></th>\n",
       "      <th></th>\n",
       "      <th></th>\n",
       "      <th></th>\n",
       "      <th></th>\n",
       "      <th></th>\n",
       "      <th></th>\n",
       "      <th></th>\n",
       "      <th></th>\n",
       "      <th></th>\n",
       "      <th></th>\n",
       "      <th></th>\n",
       "      <th></th>\n",
       "      <th></th>\n",
       "      <th></th>\n",
       "      <th></th>\n",
       "      <th></th>\n",
       "      <th></th>\n",
       "      <th></th>\n",
       "      <th></th>\n",
       "    </tr>\n",
       "  </thead>\n",
       "  <tbody>\n",
       "    <tr>\n",
       "      <th>7129300520</th>\n",
       "      <td>10/13/2014</td>\n",
       "      <td>221900.0</td>\n",
       "      <td>3</td>\n",
       "      <td>1.00</td>\n",
       "      <td>1180</td>\n",
       "      <td>5650</td>\n",
       "      <td>1.0</td>\n",
       "      <td>NaN</td>\n",
       "      <td>NONE</td>\n",
       "      <td>Average</td>\n",
       "      <td>7 Average</td>\n",
       "      <td>1180</td>\n",
       "      <td>0.0</td>\n",
       "      <td>1955</td>\n",
       "      <td>0.0</td>\n",
       "      <td>98178</td>\n",
       "      <td>47.5112</td>\n",
       "      <td>-122.257</td>\n",
       "      <td>1340</td>\n",
       "      <td>5650</td>\n",
       "    </tr>\n",
       "    <tr>\n",
       "      <th>6414100192</th>\n",
       "      <td>12/9/2014</td>\n",
       "      <td>538000.0</td>\n",
       "      <td>3</td>\n",
       "      <td>2.25</td>\n",
       "      <td>2570</td>\n",
       "      <td>7242</td>\n",
       "      <td>2.0</td>\n",
       "      <td>NO</td>\n",
       "      <td>NONE</td>\n",
       "      <td>Average</td>\n",
       "      <td>7 Average</td>\n",
       "      <td>2170</td>\n",
       "      <td>400.0</td>\n",
       "      <td>1951</td>\n",
       "      <td>1991.0</td>\n",
       "      <td>98125</td>\n",
       "      <td>47.7210</td>\n",
       "      <td>-122.319</td>\n",
       "      <td>1690</td>\n",
       "      <td>7639</td>\n",
       "    </tr>\n",
       "    <tr>\n",
       "      <th>5631500400</th>\n",
       "      <td>2/25/2015</td>\n",
       "      <td>180000.0</td>\n",
       "      <td>2</td>\n",
       "      <td>1.00</td>\n",
       "      <td>770</td>\n",
       "      <td>10000</td>\n",
       "      <td>1.0</td>\n",
       "      <td>NO</td>\n",
       "      <td>NONE</td>\n",
       "      <td>Average</td>\n",
       "      <td>6 Low Average</td>\n",
       "      <td>770</td>\n",
       "      <td>0.0</td>\n",
       "      <td>1933</td>\n",
       "      <td>NaN</td>\n",
       "      <td>98028</td>\n",
       "      <td>47.7379</td>\n",
       "      <td>-122.233</td>\n",
       "      <td>2720</td>\n",
       "      <td>8062</td>\n",
       "    </tr>\n",
       "    <tr>\n",
       "      <th>2487200875</th>\n",
       "      <td>12/9/2014</td>\n",
       "      <td>604000.0</td>\n",
       "      <td>4</td>\n",
       "      <td>3.00</td>\n",
       "      <td>1960</td>\n",
       "      <td>5000</td>\n",
       "      <td>1.0</td>\n",
       "      <td>NO</td>\n",
       "      <td>NONE</td>\n",
       "      <td>Very Good</td>\n",
       "      <td>7 Average</td>\n",
       "      <td>1050</td>\n",
       "      <td>910.0</td>\n",
       "      <td>1965</td>\n",
       "      <td>0.0</td>\n",
       "      <td>98136</td>\n",
       "      <td>47.5208</td>\n",
       "      <td>-122.393</td>\n",
       "      <td>1360</td>\n",
       "      <td>5000</td>\n",
       "    </tr>\n",
       "    <tr>\n",
       "      <th>1954400510</th>\n",
       "      <td>2/18/2015</td>\n",
       "      <td>510000.0</td>\n",
       "      <td>3</td>\n",
       "      <td>2.00</td>\n",
       "      <td>1680</td>\n",
       "      <td>8080</td>\n",
       "      <td>1.0</td>\n",
       "      <td>NO</td>\n",
       "      <td>NONE</td>\n",
       "      <td>Average</td>\n",
       "      <td>8 Good</td>\n",
       "      <td>1680</td>\n",
       "      <td>0.0</td>\n",
       "      <td>1987</td>\n",
       "      <td>0.0</td>\n",
       "      <td>98074</td>\n",
       "      <td>47.6168</td>\n",
       "      <td>-122.045</td>\n",
       "      <td>1800</td>\n",
       "      <td>7503</td>\n",
       "    </tr>\n",
       "  </tbody>\n",
       "</table>\n",
       "</div>"
      ],
      "text/plain": [
       "                  date     price  bedrooms  bathrooms  sqft_living  sqft_lot  \\\n",
       "id                                                                             \n",
       "7129300520  10/13/2014  221900.0         3       1.00         1180      5650   \n",
       "6414100192   12/9/2014  538000.0         3       2.25         2570      7242   \n",
       "5631500400   2/25/2015  180000.0         2       1.00          770     10000   \n",
       "2487200875   12/9/2014  604000.0         4       3.00         1960      5000   \n",
       "1954400510   2/18/2015  510000.0         3       2.00         1680      8080   \n",
       "\n",
       "            floors waterfront  view  condition          grade  sqft_above  \\\n",
       "id                                                                          \n",
       "7129300520     1.0        NaN  NONE    Average      7 Average        1180   \n",
       "6414100192     2.0         NO  NONE    Average      7 Average        2170   \n",
       "5631500400     1.0         NO  NONE    Average  6 Low Average         770   \n",
       "2487200875     1.0         NO  NONE  Very Good      7 Average        1050   \n",
       "1954400510     1.0         NO  NONE    Average         8 Good        1680   \n",
       "\n",
       "           sqft_basement  yr_built  yr_renovated  zipcode      lat     long  \\\n",
       "id                                                                            \n",
       "7129300520           0.0      1955           0.0    98178  47.5112 -122.257   \n",
       "6414100192         400.0      1951        1991.0    98125  47.7210 -122.319   \n",
       "5631500400           0.0      1933           NaN    98028  47.7379 -122.233   \n",
       "2487200875         910.0      1965           0.0    98136  47.5208 -122.393   \n",
       "1954400510           0.0      1987           0.0    98074  47.6168 -122.045   \n",
       "\n",
       "            sqft_living15  sqft_lot15  \n",
       "id                                     \n",
       "7129300520           1340        5650  \n",
       "6414100192           1690        7639  \n",
       "5631500400           2720        8062  \n",
       "2487200875           1360        5000  \n",
       "1954400510           1800        7503  "
      ]
     },
     "execution_count": 2,
     "metadata": {},
     "output_type": "execute_result"
    }
   ],
   "source": [
    "# Reading csv file\n",
    "kc_house_data = pd.read_csv('/Users/kregg/dsc-phase-2-project/data/kc_house_data.csv', index_col=0)\n",
    "kc_house_data.head()"
   ]
  },
  {
   "cell_type": "code",
   "execution_count": 3,
   "metadata": {},
   "outputs": [
    {
     "name": "stdout",
     "output_type": "stream",
     "text": [
      "<class 'pandas.core.frame.DataFrame'>\n",
      "Int64Index: 21597 entries, 7129300520 to 1523300157\n",
      "Data columns (total 20 columns):\n",
      " #   Column         Non-Null Count  Dtype  \n",
      "---  ------         --------------  -----  \n",
      " 0   date           21597 non-null  object \n",
      " 1   price          21597 non-null  float64\n",
      " 2   bedrooms       21597 non-null  int64  \n",
      " 3   bathrooms      21597 non-null  float64\n",
      " 4   sqft_living    21597 non-null  int64  \n",
      " 5   sqft_lot       21597 non-null  int64  \n",
      " 6   floors         21597 non-null  float64\n",
      " 7   waterfront     19221 non-null  object \n",
      " 8   view           21534 non-null  object \n",
      " 9   condition      21597 non-null  object \n",
      " 10  grade          21597 non-null  object \n",
      " 11  sqft_above     21597 non-null  int64  \n",
      " 12  sqft_basement  21597 non-null  object \n",
      " 13  yr_built       21597 non-null  int64  \n",
      " 14  yr_renovated   17755 non-null  float64\n",
      " 15  zipcode        21597 non-null  int64  \n",
      " 16  lat            21597 non-null  float64\n",
      " 17  long           21597 non-null  float64\n",
      " 18  sqft_living15  21597 non-null  int64  \n",
      " 19  sqft_lot15     21597 non-null  int64  \n",
      "dtypes: float64(6), int64(8), object(6)\n",
      "memory usage: 3.5+ MB\n"
     ]
    }
   ],
   "source": [
    "kc_house_data.info()"
   ]
  },
  {
   "cell_type": "markdown",
   "metadata": {},
   "source": [
    "### Test for which predictor has highest correlation with dependent variable and build baseline model"
   ]
  },
  {
   "cell_type": "code",
   "execution_count": 4,
   "metadata": {
    "scrolled": false
   },
   "outputs": [
    {
     "data": {
      "image/png": "[encoded data removed]",
      "text/plain": [
       "<Figure size 864x648 with 2 Axes>"
      ]
     },
     "metadata": {
      "needs_background": "light"
     },
     "output_type": "display_data"
    }
   ],
   "source": [
    "corrprice = kc_house_data.corr().round(2)\n",
    "mask = np.zeros_like(corrprice)\n",
    "mask[np.triu_indices_from(mask)]=True\n",
    "plt.figure(figsize=(12,9))\n",
    "sns.heatmap(corrprice,annot=True,cmap=\"YlGnBu\",mask=mask);"
   ]
  },
  {
   "cell_type": "markdown",
   "metadata": {},
   "source": [
    "The highest correlated predictors are `sqft_living`, `sqft_above`, and `sqft_living_15`. The variables that can be renovated reasonably are `bathrooms` and `bedrooms`."
   ]
  },
  {
   "cell_type": "code",
   "execution_count": 5,
   "metadata": {},
   "outputs": [
    {
     "data": {
      "text/plain": [
       "0"
      ]
     },
     "execution_count": 5,
     "metadata": {},
     "output_type": "execute_result"
    }
   ],
   "source": [
    "kc_house_data['sqft_living'].isnull().sum()"
   ]
  },
  {
   "cell_type": "code",
   "execution_count": 6,
   "metadata": {
    "scrolled": false
   },
   "outputs": [
    {
     "data": {
      "text/html": [
       "<table class=\"simpletable\">\n",
       "<caption>OLS Regression Results</caption>\n",
       "<tr>\n",
       "  <th>Dep. Variable:</th>          <td>price</td>      <th>  R-squared:         </th>  <td>   0.493</td>  \n",
       "</tr>\n",
       "<tr>\n",
       "  <th>Model:</th>                   <td>OLS</td>       <th>  Adj. R-squared:    </th>  <td>   0.493</td>  \n",
       "</tr>\n",
       "<tr>\n",
       "  <th>Method:</th>             <td>Least Squares</td>  <th>  F-statistic:       </th>  <td>2.097e+04</td> \n",
       "</tr>\n",
       "<tr>\n",
       "  <th>Date:</th>             <td>Fri, 03 Jun 2022</td> <th>  Prob (F-statistic):</th>   <td>  0.00</td>   \n",
       "</tr>\n",
       "<tr>\n",
       "  <th>Time:</th>                 <td>11:48:04</td>     <th>  Log-Likelihood:    </th> <td>-3.0006e+05</td>\n",
       "</tr>\n",
       "<tr>\n",
       "  <th>No. Observations:</th>      <td> 21597</td>      <th>  AIC:               </th>  <td>6.001e+05</td> \n",
       "</tr>\n",
       "<tr>\n",
       "  <th>Df Residuals:</th>          <td> 21595</td>      <th>  BIC:               </th>  <td>6.001e+05</td> \n",
       "</tr>\n",
       "<tr>\n",
       "  <th>Df Model:</th>              <td>     1</td>      <th>                     </th>      <td> </td>     \n",
       "</tr>\n",
       "<tr>\n",
       "  <th>Covariance Type:</th>      <td>nonrobust</td>    <th>                     </th>      <td> </td>     \n",
       "</tr>\n",
       "</table>\n",
       "<table class=\"simpletable\">\n",
       "<tr>\n",
       "       <td></td>          <th>coef</th>     <th>std err</th>      <th>t</th>      <th>P>|t|</th>  <th>[0.025</th>    <th>0.975]</th>  \n",
       "</tr>\n",
       "<tr>\n",
       "  <th>const</th>       <td>-4.399e+04</td> <td> 4410.023</td> <td>   -9.975</td> <td> 0.000</td> <td>-5.26e+04</td> <td>-3.53e+04</td>\n",
       "</tr>\n",
       "<tr>\n",
       "  <th>sqft_living</th> <td>  280.8630</td> <td>    1.939</td> <td>  144.819</td> <td> 0.000</td> <td>  277.062</td> <td>  284.664</td>\n",
       "</tr>\n",
       "</table>\n",
       "<table class=\"simpletable\">\n",
       "<tr>\n",
       "  <th>Omnibus:</th>       <td>14801.942</td> <th>  Durbin-Watson:     </th>  <td>   1.982</td> \n",
       "</tr>\n",
       "<tr>\n",
       "  <th>Prob(Omnibus):</th>  <td> 0.000</td>   <th>  Jarque-Bera (JB):  </th> <td>542662.604</td>\n",
       "</tr>\n",
       "<tr>\n",
       "  <th>Skew:</th>           <td> 2.820</td>   <th>  Prob(JB):          </th>  <td>    0.00</td> \n",
       "</tr>\n",
       "<tr>\n",
       "  <th>Kurtosis:</th>       <td>26.901</td>   <th>  Cond. No.          </th>  <td>5.63e+03</td> \n",
       "</tr>\n",
       "</table><br/><br/>Notes:<br/>[1] Standard Errors assume that the covariance matrix of the errors is correctly specified.<br/>[2] The condition number is large, 5.63e+03. This might indicate that there are<br/>strong multicollinearity or other numerical problems."
      ],
      "text/plain": [
       "<class 'statsmodels.iolib.summary.Summary'>\n",
       "\"\"\"\n",
       "                            OLS Regression Results                            \n",
       "==============================================================================\n",
       "Dep. Variable:                  price   R-squared:                       0.493\n",
       "Model:                            OLS   Adj. R-squared:                  0.493\n",
       "Method:                 Least Squares   F-statistic:                 2.097e+04\n",
       "Date:                Fri, 03 Jun 2022   Prob (F-statistic):               0.00\n",
       "Time:                        11:48:04   Log-Likelihood:            -3.0006e+05\n",
       "No. Observations:               21597   AIC:                         6.001e+05\n",
       "Df Residuals:                   21595   BIC:                         6.001e+05\n",
       "Df Model:                           1                                         \n",
       "Covariance Type:            nonrobust                                         \n",
       "===============================================================================\n",
       "                  coef    std err          t      P>|t|      [0.025      0.975]\n",
       "-------------------------------------------------------------------------------\n",
       "const       -4.399e+04   4410.023     -9.975      0.000   -5.26e+04   -3.53e+04\n",
       "sqft_living   280.8630      1.939    144.819      0.000     277.062     284.664\n",
       "==============================================================================\n",
       "Omnibus:                    14801.942   Durbin-Watson:                   1.982\n",
       "Prob(Omnibus):                  0.000   Jarque-Bera (JB):           542662.604\n",
       "Skew:                           2.820   Prob(JB):                         0.00\n",
       "Kurtosis:                      26.901   Cond. No.                     5.63e+03\n",
       "==============================================================================\n",
       "\n",
       "Notes:\n",
       "[1] Standard Errors assume that the covariance matrix of the errors is correctly specified.\n",
       "[2] The condition number is large, 5.63e+03. This might indicate that there are\n",
       "strong multicollinearity or other numerical problems.\n",
       "\"\"\""
      ]
     },
     "execution_count": 6,
     "metadata": {},
     "output_type": "execute_result"
    }
   ],
   "source": [
    "#baseline model\n",
    "baseX = kc_house_data['sqft_living']\n",
    "y = kc_house_data['price']\n",
    "baseX = sm.add_constant(baseX) \n",
    "baselinemodel = sm.OLS(y, baseX).fit()\n",
    "baselinemodel.summary()"
   ]
  },
  {
   "cell_type": "code",
   "execution_count": 7,
   "metadata": {
    "scrolled": true
   },
   "outputs": [
    {
     "data": {
      "image/png": "[encoded data removed]",
      "text/plain": [
       "<Figure size 432x288 with 1 Axes>"
      ]
     },
     "metadata": {
      "needs_background": "light"
     },
     "output_type": "display_data"
    },
    {
     "data": {
      "image/png": "[encoded data removed]",
      "text/plain": [
       "<Figure size 864x576 with 4 Axes>"
      ]
     },
     "metadata": {
      "needs_background": "light"
     },
     "output_type": "display_data"
    }
   ],
   "source": [
    "sm.graphics.qqplot(baselinemodel.resid, line='45',fit=True);\n",
    "sm.graphics.plot_regress_exog(baselinemodel, 'sqft_living', fig=plt.figure(figsize=(12,8)));"
   ]
  },
  {
   "cell_type": "markdown",
   "metadata": {},
   "source": [
    "### Baseline Model:\n",
    "The baseline model’s high R squared and low p -value showed that there is a relationship between price and sqft_living. The scatter plots are very heteroscedastic and the Q-Q plot shows the model is not doing a good job predicting the price. However this model is inconclusive because there is not predictors and sqft_living is too highly correlated with the other predictors. My next step is to clean the database and build a model out of the rest of the predictors."
   ]
  },
  {
   "cell_type": "markdown",
   "metadata": {},
   "source": [
    "### Data cleaning and EDA"
   ]
  },
  {
   "cell_type": "code",
   "execution_count": 8,
   "metadata": {
    "scrolled": false
   },
   "outputs": [
    {
     "data": {
      "image/png": "[encoded data removed]",
      "text/plain": [
       "<Figure size 432x288 with 2 Axes>"
      ]
     },
     "metadata": {
      "needs_background": "light"
     },
     "output_type": "display_data"
    }
   ],
   "source": [
    "corr = kc_house_data.drop(['price','sqft_above'],axis=1).corr().round(1)\n",
    "mask = np.zeros_like(corr)\n",
    "mask[np.triu_indices_from(mask)]=True\n",
    "sns.heatmap(corr,annot=True,cmap=\"YlGnBu\",mask=mask);"
   ]
  },
  {
   "cell_type": "markdown",
   "metadata": {},
   "source": [
    "Testing for multicollinearity among predictors I choses to drop `sqft_above` because it was too correlated with the other predictors."
   ]
  },
  {
   "cell_type": "code",
   "execution_count": 9,
   "metadata": {},
   "outputs": [],
   "source": [
    "kc_house_data.drop(['lat', 'long', 'yr_renovated', 'date', 'sqft_above'], axis=1, inplace=True)"
   ]
  },
  {
   "cell_type": "code",
   "execution_count": 10,
   "metadata": {
    "scrolled": false
   },
   "outputs": [
    {
     "name": "stderr",
     "output_type": "stream",
     "text": [
      "/Users/kregg/opt/anaconda3/envs/learn-env/lib/python3.8/site-packages/seaborn/distributions.py:2551: FutureWarning: `distplot` is a deprecated function and will be removed in a future version. Please adapt your code to use either `displot` (a figure-level function with similar flexibility) or `histplot` (an axes-level function for histograms).\n",
      "  warnings.warn(msg, FutureWarning)\n"
     ]
    },
    {
     "data": {
      "image/png": "[encoded data removed]",
      "text/plain": [
       "<Figure size 720x504 with 1 Axes>"
      ]
     },
     "metadata": {
      "needs_background": "light"
     },
     "output_type": "display_data"
    }
   ],
   "source": [
    "plt.figure(figsize=(10,7))\n",
    "sns.distplot(kc_house_data['price']);"
   ]
  },
  {
   "cell_type": "markdown",
   "metadata": {},
   "source": [
    "The `price` column data is skewed to the lower side most likely because of large outliers."
   ]
  },
  {
   "cell_type": "code",
   "execution_count": 11,
   "metadata": {},
   "outputs": [
    {
     "data": {
      "text/plain": [
       "count    21597.000000\n",
       "mean         2.115826\n",
       "std          0.768984\n",
       "min          0.500000\n",
       "25%          1.750000\n",
       "50%          2.250000\n",
       "75%          2.500000\n",
       "max          8.000000\n",
       "Name: bathrooms, dtype: float64"
      ]
     },
     "execution_count": 11,
     "metadata": {},
     "output_type": "execute_result"
    }
   ],
   "source": [
    "kc_house_data['bathrooms'].describe()"
   ]
  },
  {
   "cell_type": "code",
   "execution_count": 74,
   "metadata": {},
   "outputs": [
    {
     "data": {
      "image/png": "[encoded data removed]",
      "text/plain": [
       "<Figure size 864x648 with 1 Axes>"
      ]
     },
     "metadata": {
      "needs_background": "light"
     },
     "output_type": "display_data"
    }
   ],
   "source": [
    "plt.figure(figsize=(12,9))\n",
    "plt.title('Price vs Bathrooms')\n",
    "sns.regplot(data=kc_house_data, x = kc_house_data['bathrooms'], \n",
    "            y=kc_house_data['price']);"
   ]
  },
  {
   "cell_type": "code",
   "execution_count": 82,
   "metadata": {
    "scrolled": false
   },
   "outputs": [
    {
     "data": {
      "image/png": "[encoded data removed]",
      "text/plain": [
       "<Figure size 1080x864 with 1 Axes>"
      ]
     },
     "metadata": {
      "needs_background": "light"
     },
     "output_type": "display_data"
    }
   ],
   "source": [
    "plt.figure(figsize=(15,12))\n",
    "plt.title('Price vs Grade')\n",
    "bathroom_box = sns.boxplot(x= kc_house_data['bathrooms'], y= kc_house_data['price']);"
   ]
  },
  {
   "cell_type": "markdown",
   "metadata": {},
   "source": [
    "The `bahtrooms` data looks normal for the most part with some outliers. There are a lot of data points in `bathrooms`, while I was familiar with half baths I had never heard of a quarter bath before."
   ]
  },
  {
   "cell_type": "code",
   "execution_count": 13,
   "metadata": {},
   "outputs": [
    {
     "data": {
      "text/plain": [
       "count    21597.000000\n",
       "mean         3.373200\n",
       "std          0.926299\n",
       "min          1.000000\n",
       "25%          3.000000\n",
       "50%          3.000000\n",
       "75%          4.000000\n",
       "max         33.000000\n",
       "Name: bedrooms, dtype: float64"
      ]
     },
     "execution_count": 13,
     "metadata": {},
     "output_type": "execute_result"
    }
   ],
   "source": [
    "kc_house_data['bedrooms'].describe()"
   ]
  },
  {
   "cell_type": "code",
   "execution_count": 14,
   "metadata": {},
   "outputs": [
    {
     "data": {
      "text/plain": [
       "id\n",
       "1231000310     1\n",
       "2658000115     1\n",
       "1523300180     1\n",
       "2009003136     1\n",
       "1154100205     1\n",
       "              ..\n",
       "5566100170    10\n",
       "627300145     10\n",
       "8812401450    10\n",
       "1773100755    11\n",
       "2402100895    33\n",
       "Name: bedrooms, Length: 21597, dtype: int64"
      ]
     },
     "execution_count": 14,
     "metadata": {},
     "output_type": "execute_result"
    }
   ],
   "source": [
    "kc_house_data['bedrooms'].sort_values()"
   ]
  },
  {
   "cell_type": "code",
   "execution_count": 15,
   "metadata": {},
   "outputs": [
    {
     "data": {
      "text/plain": [
       "(21597, 15)"
      ]
     },
     "execution_count": 15,
     "metadata": {},
     "output_type": "execute_result"
    }
   ],
   "source": [
    "kc_house_data.shape"
   ]
  },
  {
   "cell_type": "code",
   "execution_count": 16,
   "metadata": {
    "scrolled": true
   },
   "outputs": [
    {
     "data": {
      "image/png": "[encoded data removed]",
      "text/plain": [
       "<Figure size 648x504 with 1 Axes>"
      ]
     },
     "metadata": {
      "needs_background": "light"
     },
     "output_type": "display_data"
    }
   ],
   "source": [
    "plt.figure(figsize=(9,7))\n",
    "sns.boxplot(x= kc_house_data['bedrooms'], \n",
    "            y= kc_house_data['price']);"
   ]
  },
  {
   "cell_type": "code",
   "execution_count": 17,
   "metadata": {},
   "outputs": [
    {
     "data": {
      "image/png": "[encoded data removed]",
      "text/plain": [
       "<Figure size 432x288 with 1 Axes>"
      ]
     },
     "metadata": {
      "needs_background": "light"
     },
     "output_type": "display_data"
    }
   ],
   "source": [
    "sns.regplot(data=kc_house_data, x = kc_house_data['bedrooms'], \n",
    "            y=kc_house_data['price']);"
   ]
  },
  {
   "cell_type": "markdown",
   "metadata": {},
   "source": [
    "The `bedrooms` column has a large outlier of a property with 33 bedrooms three times larger than what would be the max if the dataframe did not include this house. I am going to drop the 33 bedroom property because it is such a large outlier."
   ]
  },
  {
   "cell_type": "code",
   "execution_count": 18,
   "metadata": {},
   "outputs": [],
   "source": [
    "bedroom_outlier = kc_house_data[(kc_house_data['bedrooms'] > 30)].index\n",
    "kc_house_data.drop(bedroom_outlier, inplace = True)"
   ]
  },
  {
   "cell_type": "code",
   "execution_count": 19,
   "metadata": {},
   "outputs": [
    {
     "data": {
      "image/png": "[encoded data removed]",
      "text/plain": [
       "<Figure size 432x288 with 1 Axes>"
      ]
     },
     "metadata": {
      "needs_background": "light"
     },
     "output_type": "display_data"
    }
   ],
   "source": [
    "sns.regplot(data=kc_house_data, x = kc_house_data['bedrooms'], \n",
    "            y=kc_house_data['price']);"
   ]
  },
  {
   "cell_type": "code",
   "execution_count": 20,
   "metadata": {},
   "outputs": [
    {
     "data": {
      "image/png": "[encoded data removed]",
      "text/plain": [
       "<Figure size 648x504 with 1 Axes>"
      ]
     },
     "metadata": {
      "needs_background": "light"
     },
     "output_type": "display_data"
    }
   ],
   "source": [
    "plt.figure(figsize=(9,7))\n",
    "sns.boxplot(x= kc_house_data['bedrooms'], \n",
    "            y= kc_house_data['price']);"
   ]
  },
  {
   "cell_type": "markdown",
   "metadata": {},
   "source": [
    "Boxplot and regplot look much better after dropping the 33 bedroom property. Still some large outliers but I don't want to drop too much data."
   ]
  },
  {
   "cell_type": "code",
   "execution_count": 21,
   "metadata": {},
   "outputs": [
    {
     "data": {
      "image/png": "[encoded data removed]",
      "text/plain": [
       "<Figure size 432x288 with 1 Axes>"
      ]
     },
     "metadata": {
      "needs_background": "light"
     },
     "output_type": "display_data"
    }
   ],
   "source": [
    "sns.regplot(data=kc_house_data, x = kc_house_data['yr_built'], \n",
    "            y=kc_house_data['price']);"
   ]
  },
  {
   "cell_type": "markdown",
   "metadata": {},
   "source": [
    "The `yr_built` data looks homoscedastic and pretty evenly distributed with some outliers."
   ]
  },
  {
   "cell_type": "code",
   "execution_count": 22,
   "metadata": {
    "scrolled": true
   },
   "outputs": [
    {
     "data": {
      "image/png": "[encoded data removed]",
      "text/plain": [
       "<Figure size 432x288 with 1 Axes>"
      ]
     },
     "metadata": {
      "needs_background": "light"
     },
     "output_type": "display_data"
    }
   ],
   "source": [
    "sns.regplot(data=kc_house_data, x = kc_house_data['sqft_living'], \n",
    "            y=kc_house_data['price']);"
   ]
  },
  {
   "cell_type": "markdown",
   "metadata": {},
   "source": [
    "The `sqft_living` column like the `yr_built` is mainly homoscedastic with a few outliers. Too many outliers could skew the data and make the model less accurate."
   ]
  },
  {
   "cell_type": "code",
   "execution_count": 23,
   "metadata": {
    "scrolled": true
   },
   "outputs": [
    {
     "name": "stdout",
     "output_type": "stream",
     "text": [
      "<class 'pandas.core.frame.DataFrame'>\n",
      "Int64Index: 21596 entries, 7129300520 to 1523300157\n",
      "Data columns (total 15 columns):\n",
      " #   Column         Non-Null Count  Dtype  \n",
      "---  ------         --------------  -----  \n",
      " 0   price          21596 non-null  float64\n",
      " 1   bedrooms       21596 non-null  int64  \n",
      " 2   bathrooms      21596 non-null  float64\n",
      " 3   sqft_living    21596 non-null  int64  \n",
      " 4   sqft_lot       21596 non-null  int64  \n",
      " 5   floors         21596 non-null  float64\n",
      " 6   waterfront     19220 non-null  object \n",
      " 7   view           21533 non-null  object \n",
      " 8   condition      21596 non-null  object \n",
      " 9   grade          21596 non-null  object \n",
      " 10  sqft_basement  21596 non-null  object \n",
      " 11  yr_built       21596 non-null  int64  \n",
      " 12  zipcode        21596 non-null  int64  \n",
      " 13  sqft_living15  21596 non-null  int64  \n",
      " 14  sqft_lot15     21596 non-null  int64  \n",
      "dtypes: float64(3), int64(7), object(5)\n",
      "memory usage: 3.3+ MB\n"
     ]
    }
   ],
   "source": [
    "kc_house_data.info()"
   ]
  },
  {
   "cell_type": "code",
   "execution_count": 24,
   "metadata": {
    "scrolled": false
   },
   "outputs": [
    {
     "data": {
      "text/plain": [
       "price            float64\n",
       "bedrooms           int64\n",
       "bathrooms        float64\n",
       "sqft_living        int64\n",
       "sqft_lot           int64\n",
       "floors           float64\n",
       "waterfront        object\n",
       "view              object\n",
       "condition         object\n",
       "grade             object\n",
       "sqft_basement    float64\n",
       "yr_built           int64\n",
       "zipcode            int64\n",
       "sqft_living15      int64\n",
       "sqft_lot15         int64\n",
       "dtype: object"
      ]
     },
     "execution_count": 24,
     "metadata": {},
     "output_type": "execute_result"
    }
   ],
   "source": [
    "kc_house_data['sqft_basement'] = kc_house_data['sqft_basement'].replace('?', np.NaN).astype(float)\n",
    "kc_house_data['sqft_basement'].fillna(0, inplace=True)\n",
    "kc_house_data.dtypes"
   ]
  },
  {
   "cell_type": "code",
   "execution_count": 59,
   "metadata": {},
   "outputs": [
    {
     "data": {
      "text/plain": [
       "count      21596.0\n",
       "mean      540292.0\n",
       "std       367376.0\n",
       "min        78000.0\n",
       "25%       322000.0\n",
       "50%       450000.0\n",
       "75%       645000.0\n",
       "max      7700000.0\n",
       "Name: price, dtype: float64"
      ]
     },
     "execution_count": 59,
     "metadata": {},
     "output_type": "execute_result"
    }
   ],
   "source": [
    "kc_house_data['price'].describe().round(0)"
   ]
  },
  {
   "cell_type": "code",
   "execution_count": 25,
   "metadata": {
    "scrolled": true
   },
   "outputs": [
    {
     "data": {
      "text/plain": [
       "Average      14020\n",
       "Good          5677\n",
       "Very Good     1700\n",
       "Fair           170\n",
       "Poor            29\n",
       "Name: condition, dtype: int64"
      ]
     },
     "execution_count": 25,
     "metadata": {},
     "output_type": "execute_result"
    }
   ],
   "source": [
    "kc_house_data['condition'].value_counts()"
   ]
  },
  {
   "cell_type": "code",
   "execution_count": 26,
   "metadata": {
    "scrolled": true
   },
   "outputs": [
    {
     "data": {
      "text/html": [
       "<div>\n",
       "<style scoped>\n",
       "    .dataframe tbody tr th:only-of-type {\n",
       "        vertical-align: middle;\n",
       "    }\n",
       "\n",
       "    .dataframe tbody tr th {\n",
       "        vertical-align: top;\n",
       "    }\n",
       "\n",
       "    .dataframe thead th {\n",
       "        text-align: right;\n",
       "    }\n",
       "</style>\n",
       "<table border=\"1\" class=\"dataframe\">\n",
       "  <thead>\n",
       "    <tr style=\"text-align: right;\">\n",
       "      <th></th>\n",
       "      <th>count</th>\n",
       "      <th>mean</th>\n",
       "      <th>std</th>\n",
       "      <th>min</th>\n",
       "      <th>25%</th>\n",
       "      <th>50%</th>\n",
       "      <th>75%</th>\n",
       "      <th>max</th>\n",
       "    </tr>\n",
       "    <tr>\n",
       "      <th>bathrooms</th>\n",
       "      <th></th>\n",
       "      <th></th>\n",
       "      <th></th>\n",
       "      <th></th>\n",
       "      <th></th>\n",
       "      <th></th>\n",
       "      <th></th>\n",
       "      <th></th>\n",
       "    </tr>\n",
       "  </thead>\n",
       "  <tbody>\n",
       "    <tr>\n",
       "      <th>0.50</th>\n",
       "      <td>4.0</td>\n",
       "      <td>237375.0</td>\n",
       "      <td>88888.9</td>\n",
       "      <td>109000.0</td>\n",
       "      <td>218500.0</td>\n",
       "      <td>264000.0</td>\n",
       "      <td>282875.0</td>\n",
       "      <td>312500.0</td>\n",
       "    </tr>\n",
       "    <tr>\n",
       "      <th>0.75</th>\n",
       "      <td>71.0</td>\n",
       "      <td>294936.6</td>\n",
       "      <td>139022.0</td>\n",
       "      <td>80000.0</td>\n",
       "      <td>201000.0</td>\n",
       "      <td>275000.0</td>\n",
       "      <td>355000.0</td>\n",
       "      <td>785000.0</td>\n",
       "    </tr>\n",
       "    <tr>\n",
       "      <th>1.00</th>\n",
       "      <td>3851.0</td>\n",
       "      <td>347072.1</td>\n",
       "      <td>154567.4</td>\n",
       "      <td>78000.0</td>\n",
       "      <td>230000.0</td>\n",
       "      <td>320000.0</td>\n",
       "      <td>425000.0</td>\n",
       "      <td>1300000.0</td>\n",
       "    </tr>\n",
       "    <tr>\n",
       "      <th>1.25</th>\n",
       "      <td>9.0</td>\n",
       "      <td>621772.2</td>\n",
       "      <td>408881.7</td>\n",
       "      <td>275000.0</td>\n",
       "      <td>360000.0</td>\n",
       "      <td>516500.0</td>\n",
       "      <td>545000.0</td>\n",
       "      <td>1390000.0</td>\n",
       "    </tr>\n",
       "    <tr>\n",
       "      <th>1.50</th>\n",
       "      <td>1445.0</td>\n",
       "      <td>409429.7</td>\n",
       "      <td>193930.7</td>\n",
       "      <td>107000.0</td>\n",
       "      <td>265950.0</td>\n",
       "      <td>370000.0</td>\n",
       "      <td>495800.0</td>\n",
       "      <td>1500000.0</td>\n",
       "    </tr>\n",
       "    <tr>\n",
       "      <th>1.75</th>\n",
       "      <td>3047.0</td>\n",
       "      <td>454855.1</td>\n",
       "      <td>202054.5</td>\n",
       "      <td>115000.0</td>\n",
       "      <td>310000.0</td>\n",
       "      <td>422800.0</td>\n",
       "      <td>555000.0</td>\n",
       "      <td>3280000.0</td>\n",
       "    </tr>\n",
       "    <tr>\n",
       "      <th>2.00</th>\n",
       "      <td>1930.0</td>\n",
       "      <td>457905.0</td>\n",
       "      <td>206072.3</td>\n",
       "      <td>115000.0</td>\n",
       "      <td>300500.0</td>\n",
       "      <td>423250.0</td>\n",
       "      <td>563000.0</td>\n",
       "      <td>2200000.0</td>\n",
       "    </tr>\n",
       "    <tr>\n",
       "      <th>2.25</th>\n",
       "      <td>2047.0</td>\n",
       "      <td>533768.8</td>\n",
       "      <td>281159.7</td>\n",
       "      <td>160000.0</td>\n",
       "      <td>339975.0</td>\n",
       "      <td>472500.0</td>\n",
       "      <td>625000.0</td>\n",
       "      <td>2400000.0</td>\n",
       "    </tr>\n",
       "    <tr>\n",
       "      <th>2.50</th>\n",
       "      <td>5377.0</td>\n",
       "      <td>553803.3</td>\n",
       "      <td>267071.2</td>\n",
       "      <td>153503.0</td>\n",
       "      <td>365000.0</td>\n",
       "      <td>499950.0</td>\n",
       "      <td>675000.0</td>\n",
       "      <td>3070000.0</td>\n",
       "    </tr>\n",
       "    <tr>\n",
       "      <th>2.75</th>\n",
       "      <td>1185.0</td>\n",
       "      <td>660350.5</td>\n",
       "      <td>309847.5</td>\n",
       "      <td>183750.0</td>\n",
       "      <td>437000.0</td>\n",
       "      <td>605000.0</td>\n",
       "      <td>796500.0</td>\n",
       "      <td>2700000.0</td>\n",
       "    </tr>\n",
       "    <tr>\n",
       "      <th>3.00</th>\n",
       "      <td>753.0</td>\n",
       "      <td>708661.9</td>\n",
       "      <td>430874.9</td>\n",
       "      <td>154000.0</td>\n",
       "      <td>436000.0</td>\n",
       "      <td>600000.0</td>\n",
       "      <td>850000.0</td>\n",
       "      <td>4490000.0</td>\n",
       "    </tr>\n",
       "    <tr>\n",
       "      <th>3.25</th>\n",
       "      <td>589.0</td>\n",
       "      <td>970753.2</td>\n",
       "      <td>563390.4</td>\n",
       "      <td>176000.0</td>\n",
       "      <td>589500.0</td>\n",
       "      <td>835000.0</td>\n",
       "      <td>1190000.0</td>\n",
       "      <td>3640000.0</td>\n",
       "    </tr>\n",
       "    <tr>\n",
       "      <th>3.50</th>\n",
       "      <td>731.0</td>\n",
       "      <td>932401.7</td>\n",
       "      <td>465273.4</td>\n",
       "      <td>216650.0</td>\n",
       "      <td>619500.0</td>\n",
       "      <td>820000.0</td>\n",
       "      <td>1150000.0</td>\n",
       "      <td>3710000.0</td>\n",
       "    </tr>\n",
       "    <tr>\n",
       "      <th>3.75</th>\n",
       "      <td>155.0</td>\n",
       "      <td>1198178.9</td>\n",
       "      <td>590266.9</td>\n",
       "      <td>255000.0</td>\n",
       "      <td>805250.0</td>\n",
       "      <td>1070000.0</td>\n",
       "      <td>1515000.0</td>\n",
       "      <td>3650000.0</td>\n",
       "    </tr>\n",
       "    <tr>\n",
       "      <th>4.00</th>\n",
       "      <td>136.0</td>\n",
       "      <td>1268405.3</td>\n",
       "      <td>693307.6</td>\n",
       "      <td>265000.0</td>\n",
       "      <td>796300.0</td>\n",
       "      <td>1055000.0</td>\n",
       "      <td>1527500.0</td>\n",
       "      <td>3400000.0</td>\n",
       "    </tr>\n",
       "    <tr>\n",
       "      <th>4.25</th>\n",
       "      <td>79.0</td>\n",
       "      <td>1526653.2</td>\n",
       "      <td>761637.9</td>\n",
       "      <td>490000.0</td>\n",
       "      <td>927500.0</td>\n",
       "      <td>1380000.0</td>\n",
       "      <td>1965000.0</td>\n",
       "      <td>3850000.0</td>\n",
       "    </tr>\n",
       "    <tr>\n",
       "      <th>4.50</th>\n",
       "      <td>100.0</td>\n",
       "      <td>1334210.6</td>\n",
       "      <td>891056.8</td>\n",
       "      <td>290000.0</td>\n",
       "      <td>808000.0</td>\n",
       "      <td>1060000.0</td>\n",
       "      <td>1662500.0</td>\n",
       "      <td>7060000.0</td>\n",
       "    </tr>\n",
       "    <tr>\n",
       "      <th>4.75</th>\n",
       "      <td>23.0</td>\n",
       "      <td>2022299.6</td>\n",
       "      <td>867272.4</td>\n",
       "      <td>480000.0</td>\n",
       "      <td>1360000.0</td>\n",
       "      <td>2300000.0</td>\n",
       "      <td>2585000.0</td>\n",
       "      <td>3650000.0</td>\n",
       "    </tr>\n",
       "    <tr>\n",
       "      <th>5.00</th>\n",
       "      <td>21.0</td>\n",
       "      <td>1674166.7</td>\n",
       "      <td>1248295.3</td>\n",
       "      <td>343000.0</td>\n",
       "      <td>740000.0</td>\n",
       "      <td>1430000.0</td>\n",
       "      <td>1880000.0</td>\n",
       "      <td>5350000.0</td>\n",
       "    </tr>\n",
       "    <tr>\n",
       "      <th>5.25</th>\n",
       "      <td>13.0</td>\n",
       "      <td>1817961.5</td>\n",
       "      <td>1241665.5</td>\n",
       "      <td>300000.0</td>\n",
       "      <td>1150000.0</td>\n",
       "      <td>1420000.0</td>\n",
       "      <td>2250000.0</td>\n",
       "      <td>5110000.0</td>\n",
       "    </tr>\n",
       "    <tr>\n",
       "      <th>5.50</th>\n",
       "      <td>10.0</td>\n",
       "      <td>2522500.0</td>\n",
       "      <td>1254634.2</td>\n",
       "      <td>925000.0</td>\n",
       "      <td>1525000.0</td>\n",
       "      <td>2340000.0</td>\n",
       "      <td>3595000.0</td>\n",
       "      <td>4500000.0</td>\n",
       "    </tr>\n",
       "    <tr>\n",
       "      <th>5.75</th>\n",
       "      <td>4.0</td>\n",
       "      <td>2492500.0</td>\n",
       "      <td>2153777.7</td>\n",
       "      <td>540000.0</td>\n",
       "      <td>1575000.0</td>\n",
       "      <td>1930000.0</td>\n",
       "      <td>2847500.0</td>\n",
       "      <td>5570000.0</td>\n",
       "    </tr>\n",
       "    <tr>\n",
       "      <th>6.00</th>\n",
       "      <td>6.0</td>\n",
       "      <td>2948333.3</td>\n",
       "      <td>1706474.9</td>\n",
       "      <td>900000.0</td>\n",
       "      <td>1655000.0</td>\n",
       "      <td>2895000.0</td>\n",
       "      <td>4067500.0</td>\n",
       "      <td>5300000.0</td>\n",
       "    </tr>\n",
       "    <tr>\n",
       "      <th>6.25</th>\n",
       "      <td>2.0</td>\n",
       "      <td>3095000.0</td>\n",
       "      <td>289913.8</td>\n",
       "      <td>2890000.0</td>\n",
       "      <td>2992500.0</td>\n",
       "      <td>3095000.0</td>\n",
       "      <td>3197500.0</td>\n",
       "      <td>3300000.0</td>\n",
       "    </tr>\n",
       "    <tr>\n",
       "      <th>6.50</th>\n",
       "      <td>2.0</td>\n",
       "      <td>1710000.0</td>\n",
       "      <td>749533.2</td>\n",
       "      <td>1180000.0</td>\n",
       "      <td>1445000.0</td>\n",
       "      <td>1710000.0</td>\n",
       "      <td>1975000.0</td>\n",
       "      <td>2240000.0</td>\n",
       "    </tr>\n",
       "    <tr>\n",
       "      <th>6.75</th>\n",
       "      <td>2.0</td>\n",
       "      <td>2735000.0</td>\n",
       "      <td>2736503.2</td>\n",
       "      <td>800000.0</td>\n",
       "      <td>1767500.0</td>\n",
       "      <td>2735000.0</td>\n",
       "      <td>3702500.0</td>\n",
       "      <td>4670000.0</td>\n",
       "    </tr>\n",
       "    <tr>\n",
       "      <th>7.50</th>\n",
       "      <td>1.0</td>\n",
       "      <td>450000.0</td>\n",
       "      <td>NaN</td>\n",
       "      <td>450000.0</td>\n",
       "      <td>450000.0</td>\n",
       "      <td>450000.0</td>\n",
       "      <td>450000.0</td>\n",
       "      <td>450000.0</td>\n",
       "    </tr>\n",
       "    <tr>\n",
       "      <th>7.75</th>\n",
       "      <td>1.0</td>\n",
       "      <td>6890000.0</td>\n",
       "      <td>NaN</td>\n",
       "      <td>6890000.0</td>\n",
       "      <td>6890000.0</td>\n",
       "      <td>6890000.0</td>\n",
       "      <td>6890000.0</td>\n",
       "      <td>6890000.0</td>\n",
       "    </tr>\n",
       "    <tr>\n",
       "      <th>8.00</th>\n",
       "      <td>2.0</td>\n",
       "      <td>4990000.0</td>\n",
       "      <td>3832518.8</td>\n",
       "      <td>2280000.0</td>\n",
       "      <td>3635000.0</td>\n",
       "      <td>4990000.0</td>\n",
       "      <td>6345000.0</td>\n",
       "      <td>7700000.0</td>\n",
       "    </tr>\n",
       "  </tbody>\n",
       "</table>\n",
       "</div>"
      ],
      "text/plain": [
       "            count       mean        std        min        25%        50%  \\\n",
       "bathrooms                                                                  \n",
       "0.50          4.0   237375.0    88888.9   109000.0   218500.0   264000.0   \n",
       "0.75         71.0   294936.6   139022.0    80000.0   201000.0   275000.0   \n",
       "1.00       3851.0   347072.1   154567.4    78000.0   230000.0   320000.0   \n",
       "1.25          9.0   621772.2   408881.7   275000.0   360000.0   516500.0   \n",
       "1.50       1445.0   409429.7   193930.7   107000.0   265950.0   370000.0   \n",
       "1.75       3047.0   454855.1   202054.5   115000.0   310000.0   422800.0   \n",
       "2.00       1930.0   457905.0   206072.3   115000.0   300500.0   423250.0   \n",
       "2.25       2047.0   533768.8   281159.7   160000.0   339975.0   472500.0   \n",
       "2.50       5377.0   553803.3   267071.2   153503.0   365000.0   499950.0   \n",
       "2.75       1185.0   660350.5   309847.5   183750.0   437000.0   605000.0   \n",
       "3.00        753.0   708661.9   430874.9   154000.0   436000.0   600000.0   \n",
       "3.25        589.0   970753.2   563390.4   176000.0   589500.0   835000.0   \n",
       "3.50        731.0   932401.7   465273.4   216650.0   619500.0   820000.0   \n",
       "3.75        155.0  1198178.9   590266.9   255000.0   805250.0  1070000.0   \n",
       "4.00        136.0  1268405.3   693307.6   265000.0   796300.0  1055000.0   \n",
       "4.25         79.0  1526653.2   761637.9   490000.0   927500.0  1380000.0   \n",
       "4.50        100.0  1334210.6   891056.8   290000.0   808000.0  1060000.0   \n",
       "4.75         23.0  2022299.6   867272.4   480000.0  1360000.0  2300000.0   \n",
       "5.00         21.0  1674166.7  1248295.3   343000.0   740000.0  1430000.0   \n",
       "5.25         13.0  1817961.5  1241665.5   300000.0  1150000.0  1420000.0   \n",
       "5.50         10.0  2522500.0  1254634.2   925000.0  1525000.0  2340000.0   \n",
       "5.75          4.0  2492500.0  2153777.7   540000.0  1575000.0  1930000.0   \n",
       "6.00          6.0  2948333.3  1706474.9   900000.0  1655000.0  2895000.0   \n",
       "6.25          2.0  3095000.0   289913.8  2890000.0  2992500.0  3095000.0   \n",
       "6.50          2.0  1710000.0   749533.2  1180000.0  1445000.0  1710000.0   \n",
       "6.75          2.0  2735000.0  2736503.2   800000.0  1767500.0  2735000.0   \n",
       "7.50          1.0   450000.0        NaN   450000.0   450000.0   450000.0   \n",
       "7.75          1.0  6890000.0        NaN  6890000.0  6890000.0  6890000.0   \n",
       "8.00          2.0  4990000.0  3832518.8  2280000.0  3635000.0  4990000.0   \n",
       "\n",
       "                 75%        max  \n",
       "bathrooms                        \n",
       "0.50        282875.0   312500.0  \n",
       "0.75        355000.0   785000.0  \n",
       "1.00        425000.0  1300000.0  \n",
       "1.25        545000.0  1390000.0  \n",
       "1.50        495800.0  1500000.0  \n",
       "1.75        555000.0  3280000.0  \n",
       "2.00        563000.0  2200000.0  \n",
       "2.25        625000.0  2400000.0  \n",
       "2.50        675000.0  3070000.0  \n",
       "2.75        796500.0  2700000.0  \n",
       "3.00        850000.0  4490000.0  \n",
       "3.25       1190000.0  3640000.0  \n",
       "3.50       1150000.0  3710000.0  \n",
       "3.75       1515000.0  3650000.0  \n",
       "4.00       1527500.0  3400000.0  \n",
       "4.25       1965000.0  3850000.0  \n",
       "4.50       1662500.0  7060000.0  \n",
       "4.75       2585000.0  3650000.0  \n",
       "5.00       1880000.0  5350000.0  \n",
       "5.25       2250000.0  5110000.0  \n",
       "5.50       3595000.0  4500000.0  \n",
       "5.75       2847500.0  5570000.0  \n",
       "6.00       4067500.0  5300000.0  \n",
       "6.25       3197500.0  3300000.0  \n",
       "6.50       1975000.0  2240000.0  \n",
       "6.75       3702500.0  4670000.0  \n",
       "7.50        450000.0   450000.0  \n",
       "7.75       6890000.0  6890000.0  \n",
       "8.00       6345000.0  7700000.0  "
      ]
     },
     "execution_count": 26,
     "metadata": {},
     "output_type": "execute_result"
    }
   ],
   "source": [
    "kc_house_data['price'].groupby(kc_house_data['bathrooms']).describe().round(1)"
   ]
  },
  {
   "cell_type": "code",
   "execution_count": 27,
   "metadata": {},
   "outputs": [],
   "source": [
    "kc_house_data.replace({\n",
    "    'grade':'[A-Za-z]'},'',regex=True, inplace= True)\n",
    "kc_house_data['grade'] = kc_house_data['grade'].astype(float)"
   ]
  },
  {
   "cell_type": "code",
   "execution_count": 66,
   "metadata": {
    "scrolled": false
   },
   "outputs": [
    {
     "data": {
      "image/png": "[encoded data removed]",
      "text/plain": [
       "<Figure size 792x504 with 1 Axes>"
      ]
     },
     "metadata": {
      "needs_background": "light"
     },
     "output_type": "display_data"
    }
   ],
   "source": [
    "plt.figure(figsize=(11,7))\n",
    "plt.title('Price vs Grade')\n",
    "sns.boxplot(x= kc_house_data['grade'], y= kc_house_data['price']);"
   ]
  },
  {
   "cell_type": "markdown",
   "metadata": {},
   "source": [
    "The data in the `grade` column looks normal and can be analyzed now that the strings in the grade column are gone."
   ]
  },
  {
   "cell_type": "code",
   "execution_count": 29,
   "metadata": {},
   "outputs": [
    {
     "data": {
      "text/plain": [
       "(21596, 15)"
      ]
     },
     "execution_count": 29,
     "metadata": {},
     "output_type": "execute_result"
    }
   ],
   "source": [
    "kc_house_data['waterfront'].fillna('NO', inplace=True)\n",
    "kc_house_data['view'].fillna('NONE', inplace=True)\n",
    "kc_house_data.shape"
   ]
  },
  {
   "cell_type": "code",
   "execution_count": 30,
   "metadata": {
    "scrolled": true
   },
   "outputs": [
    {
     "data": {
      "text/html": [
       "<div>\n",
       "<style scoped>\n",
       "    .dataframe tbody tr th:only-of-type {\n",
       "        vertical-align: middle;\n",
       "    }\n",
       "\n",
       "    .dataframe tbody tr th {\n",
       "        vertical-align: top;\n",
       "    }\n",
       "\n",
       "    .dataframe thead th {\n",
       "        text-align: right;\n",
       "    }\n",
       "</style>\n",
       "<table border=\"1\" class=\"dataframe\">\n",
       "  <thead>\n",
       "    <tr style=\"text-align: right;\">\n",
       "      <th></th>\n",
       "      <th>price</th>\n",
       "      <th>bedrooms</th>\n",
       "      <th>bathrooms</th>\n",
       "      <th>sqft_living</th>\n",
       "      <th>sqft_lot</th>\n",
       "      <th>floors</th>\n",
       "      <th>grade</th>\n",
       "      <th>sqft_basement</th>\n",
       "      <th>yr_built</th>\n",
       "      <th>zipcode</th>\n",
       "      <th>sqft_living15</th>\n",
       "      <th>sqft_lot15</th>\n",
       "    </tr>\n",
       "  </thead>\n",
       "  <tbody>\n",
       "    <tr>\n",
       "      <th>count</th>\n",
       "      <td>21596.00</td>\n",
       "      <td>21596.00</td>\n",
       "      <td>21596.00</td>\n",
       "      <td>21596.00</td>\n",
       "      <td>21596.00</td>\n",
       "      <td>21596.00</td>\n",
       "      <td>21596.00</td>\n",
       "      <td>21596.00</td>\n",
       "      <td>21596.00</td>\n",
       "      <td>21596.00</td>\n",
       "      <td>21596.00</td>\n",
       "      <td>21596.00</td>\n",
       "    </tr>\n",
       "    <tr>\n",
       "      <th>mean</th>\n",
       "      <td>540291.96</td>\n",
       "      <td>3.37</td>\n",
       "      <td>2.12</td>\n",
       "      <td>2080.34</td>\n",
       "      <td>15099.83</td>\n",
       "      <td>1.49</td>\n",
       "      <td>7.66</td>\n",
       "      <td>285.70</td>\n",
       "      <td>1971.00</td>\n",
       "      <td>98077.95</td>\n",
       "      <td>1986.65</td>\n",
       "      <td>12758.66</td>\n",
       "    </tr>\n",
       "    <tr>\n",
       "      <th>std</th>\n",
       "      <td>367376.02</td>\n",
       "      <td>0.90</td>\n",
       "      <td>0.77</td>\n",
       "      <td>918.12</td>\n",
       "      <td>41413.55</td>\n",
       "      <td>0.54</td>\n",
       "      <td>1.17</td>\n",
       "      <td>439.83</td>\n",
       "      <td>29.38</td>\n",
       "      <td>53.51</td>\n",
       "      <td>685.23</td>\n",
       "      <td>27275.02</td>\n",
       "    </tr>\n",
       "    <tr>\n",
       "      <th>min</th>\n",
       "      <td>78000.00</td>\n",
       "      <td>1.00</td>\n",
       "      <td>0.50</td>\n",
       "      <td>370.00</td>\n",
       "      <td>520.00</td>\n",
       "      <td>1.00</td>\n",
       "      <td>3.00</td>\n",
       "      <td>0.00</td>\n",
       "      <td>1900.00</td>\n",
       "      <td>98001.00</td>\n",
       "      <td>399.00</td>\n",
       "      <td>651.00</td>\n",
       "    </tr>\n",
       "    <tr>\n",
       "      <th>25%</th>\n",
       "      <td>322000.00</td>\n",
       "      <td>3.00</td>\n",
       "      <td>1.75</td>\n",
       "      <td>1430.00</td>\n",
       "      <td>5040.00</td>\n",
       "      <td>1.00</td>\n",
       "      <td>7.00</td>\n",
       "      <td>0.00</td>\n",
       "      <td>1951.00</td>\n",
       "      <td>98033.00</td>\n",
       "      <td>1490.00</td>\n",
       "      <td>5100.00</td>\n",
       "    </tr>\n",
       "    <tr>\n",
       "      <th>50%</th>\n",
       "      <td>450000.00</td>\n",
       "      <td>3.00</td>\n",
       "      <td>2.25</td>\n",
       "      <td>1910.00</td>\n",
       "      <td>7619.00</td>\n",
       "      <td>1.50</td>\n",
       "      <td>7.00</td>\n",
       "      <td>0.00</td>\n",
       "      <td>1975.00</td>\n",
       "      <td>98065.00</td>\n",
       "      <td>1840.00</td>\n",
       "      <td>7620.00</td>\n",
       "    </tr>\n",
       "    <tr>\n",
       "      <th>75%</th>\n",
       "      <td>645000.00</td>\n",
       "      <td>4.00</td>\n",
       "      <td>2.50</td>\n",
       "      <td>2550.00</td>\n",
       "      <td>10685.50</td>\n",
       "      <td>2.00</td>\n",
       "      <td>8.00</td>\n",
       "      <td>550.00</td>\n",
       "      <td>1997.00</td>\n",
       "      <td>98118.00</td>\n",
       "      <td>2360.00</td>\n",
       "      <td>10083.00</td>\n",
       "    </tr>\n",
       "    <tr>\n",
       "      <th>max</th>\n",
       "      <td>7700000.00</td>\n",
       "      <td>11.00</td>\n",
       "      <td>8.00</td>\n",
       "      <td>13540.00</td>\n",
       "      <td>1651359.00</td>\n",
       "      <td>3.50</td>\n",
       "      <td>13.00</td>\n",
       "      <td>4820.00</td>\n",
       "      <td>2015.00</td>\n",
       "      <td>98199.00</td>\n",
       "      <td>6210.00</td>\n",
       "      <td>871200.00</td>\n",
       "    </tr>\n",
       "  </tbody>\n",
       "</table>\n",
       "</div>"
      ],
      "text/plain": [
       "            price  bedrooms  bathrooms  sqft_living    sqft_lot    floors  \\\n",
       "count    21596.00  21596.00   21596.00     21596.00    21596.00  21596.00   \n",
       "mean    540291.96      3.37       2.12      2080.34    15099.83      1.49   \n",
       "std     367376.02      0.90       0.77       918.12    41413.55      0.54   \n",
       "min      78000.00      1.00       0.50       370.00      520.00      1.00   \n",
       "25%     322000.00      3.00       1.75      1430.00     5040.00      1.00   \n",
       "50%     450000.00      3.00       2.25      1910.00     7619.00      1.50   \n",
       "75%     645000.00      4.00       2.50      2550.00    10685.50      2.00   \n",
       "max    7700000.00     11.00       8.00     13540.00  1651359.00      3.50   \n",
       "\n",
       "          grade  sqft_basement  yr_built   zipcode  sqft_living15  sqft_lot15  \n",
       "count  21596.00       21596.00  21596.00  21596.00       21596.00    21596.00  \n",
       "mean       7.66         285.70   1971.00  98077.95        1986.65    12758.66  \n",
       "std        1.17         439.83     29.38     53.51         685.23    27275.02  \n",
       "min        3.00           0.00   1900.00  98001.00         399.00      651.00  \n",
       "25%        7.00           0.00   1951.00  98033.00        1490.00     5100.00  \n",
       "50%        7.00           0.00   1975.00  98065.00        1840.00     7620.00  \n",
       "75%        8.00         550.00   1997.00  98118.00        2360.00    10083.00  \n",
       "max       13.00        4820.00   2015.00  98199.00        6210.00   871200.00  "
      ]
     },
     "execution_count": 30,
     "metadata": {},
     "output_type": "execute_result"
    }
   ],
   "source": [
    "kc_house_data.describe().round(2)"
   ]
  },
  {
   "cell_type": "code",
   "execution_count": 31,
   "metadata": {
    "scrolled": false
   },
   "outputs": [
    {
     "data": {
      "text/plain": [
       "price            3622\n",
       "bedrooms           11\n",
       "bathrooms          29\n",
       "sqft_living      1034\n",
       "sqft_lot         9776\n",
       "floors              6\n",
       "waterfront          2\n",
       "view                5\n",
       "condition           5\n",
       "grade              11\n",
       "sqft_basement     303\n",
       "yr_built          116\n",
       "zipcode            70\n",
       "sqft_living15     777\n",
       "sqft_lot15       8682\n",
       "dtype: int64"
      ]
     },
     "execution_count": 31,
     "metadata": {},
     "output_type": "execute_result"
    }
   ],
   "source": [
    "kc_house_data.nunique()"
   ]
  },
  {
   "cell_type": "code",
   "execution_count": 32,
   "metadata": {
    "scrolled": true
   },
   "outputs": [
    {
     "data": {
      "text/html": [
       "<div>\n",
       "<style scoped>\n",
       "    .dataframe tbody tr th:only-of-type {\n",
       "        vertical-align: middle;\n",
       "    }\n",
       "\n",
       "    .dataframe tbody tr th {\n",
       "        vertical-align: top;\n",
       "    }\n",
       "\n",
       "    .dataframe thead th {\n",
       "        text-align: right;\n",
       "    }\n",
       "</style>\n",
       "<table border=\"1\" class=\"dataframe\">\n",
       "  <thead>\n",
       "    <tr style=\"text-align: right;\">\n",
       "      <th></th>\n",
       "      <th>price</th>\n",
       "      <th>bedrooms</th>\n",
       "      <th>bathrooms</th>\n",
       "      <th>sqft_living</th>\n",
       "      <th>sqft_lot</th>\n",
       "      <th>floors</th>\n",
       "      <th>grade</th>\n",
       "      <th>sqft_basement</th>\n",
       "      <th>yr_built</th>\n",
       "      <th>zipcode</th>\n",
       "      <th>...</th>\n",
       "      <th>sqft_lot15</th>\n",
       "      <th>waterfront_YES</th>\n",
       "      <th>view_EXCELLENT</th>\n",
       "      <th>view_FAIR</th>\n",
       "      <th>view_GOOD</th>\n",
       "      <th>view_NONE</th>\n",
       "      <th>condition_Fair</th>\n",
       "      <th>condition_Good</th>\n",
       "      <th>condition_Poor</th>\n",
       "      <th>condition_Very Good</th>\n",
       "    </tr>\n",
       "    <tr>\n",
       "      <th>id</th>\n",
       "      <th></th>\n",
       "      <th></th>\n",
       "      <th></th>\n",
       "      <th></th>\n",
       "      <th></th>\n",
       "      <th></th>\n",
       "      <th></th>\n",
       "      <th></th>\n",
       "      <th></th>\n",
       "      <th></th>\n",
       "      <th></th>\n",
       "      <th></th>\n",
       "      <th></th>\n",
       "      <th></th>\n",
       "      <th></th>\n",
       "      <th></th>\n",
       "      <th></th>\n",
       "      <th></th>\n",
       "      <th></th>\n",
       "      <th></th>\n",
       "      <th></th>\n",
       "    </tr>\n",
       "  </thead>\n",
       "  <tbody>\n",
       "    <tr>\n",
       "      <th>7129300520</th>\n",
       "      <td>221900.0</td>\n",
       "      <td>3</td>\n",
       "      <td>1.00</td>\n",
       "      <td>1180</td>\n",
       "      <td>5650</td>\n",
       "      <td>1.0</td>\n",
       "      <td>7.0</td>\n",
       "      <td>0.0</td>\n",
       "      <td>1955</td>\n",
       "      <td>98178</td>\n",
       "      <td>...</td>\n",
       "      <td>5650</td>\n",
       "      <td>0</td>\n",
       "      <td>0</td>\n",
       "      <td>0</td>\n",
       "      <td>0</td>\n",
       "      <td>1</td>\n",
       "      <td>0</td>\n",
       "      <td>0</td>\n",
       "      <td>0</td>\n",
       "      <td>0</td>\n",
       "    </tr>\n",
       "    <tr>\n",
       "      <th>6414100192</th>\n",
       "      <td>538000.0</td>\n",
       "      <td>3</td>\n",
       "      <td>2.25</td>\n",
       "      <td>2570</td>\n",
       "      <td>7242</td>\n",
       "      <td>2.0</td>\n",
       "      <td>7.0</td>\n",
       "      <td>400.0</td>\n",
       "      <td>1951</td>\n",
       "      <td>98125</td>\n",
       "      <td>...</td>\n",
       "      <td>7639</td>\n",
       "      <td>0</td>\n",
       "      <td>0</td>\n",
       "      <td>0</td>\n",
       "      <td>0</td>\n",
       "      <td>1</td>\n",
       "      <td>0</td>\n",
       "      <td>0</td>\n",
       "      <td>0</td>\n",
       "      <td>0</td>\n",
       "    </tr>\n",
       "    <tr>\n",
       "      <th>5631500400</th>\n",
       "      <td>180000.0</td>\n",
       "      <td>2</td>\n",
       "      <td>1.00</td>\n",
       "      <td>770</td>\n",
       "      <td>10000</td>\n",
       "      <td>1.0</td>\n",
       "      <td>6.0</td>\n",
       "      <td>0.0</td>\n",
       "      <td>1933</td>\n",
       "      <td>98028</td>\n",
       "      <td>...</td>\n",
       "      <td>8062</td>\n",
       "      <td>0</td>\n",
       "      <td>0</td>\n",
       "      <td>0</td>\n",
       "      <td>0</td>\n",
       "      <td>1</td>\n",
       "      <td>0</td>\n",
       "      <td>0</td>\n",
       "      <td>0</td>\n",
       "      <td>0</td>\n",
       "    </tr>\n",
       "    <tr>\n",
       "      <th>2487200875</th>\n",
       "      <td>604000.0</td>\n",
       "      <td>4</td>\n",
       "      <td>3.00</td>\n",
       "      <td>1960</td>\n",
       "      <td>5000</td>\n",
       "      <td>1.0</td>\n",
       "      <td>7.0</td>\n",
       "      <td>910.0</td>\n",
       "      <td>1965</td>\n",
       "      <td>98136</td>\n",
       "      <td>...</td>\n",
       "      <td>5000</td>\n",
       "      <td>0</td>\n",
       "      <td>0</td>\n",
       "      <td>0</td>\n",
       "      <td>0</td>\n",
       "      <td>1</td>\n",
       "      <td>0</td>\n",
       "      <td>0</td>\n",
       "      <td>0</td>\n",
       "      <td>1</td>\n",
       "    </tr>\n",
       "    <tr>\n",
       "      <th>1954400510</th>\n",
       "      <td>510000.0</td>\n",
       "      <td>3</td>\n",
       "      <td>2.00</td>\n",
       "      <td>1680</td>\n",
       "      <td>8080</td>\n",
       "      <td>1.0</td>\n",
       "      <td>8.0</td>\n",
       "      <td>0.0</td>\n",
       "      <td>1987</td>\n",
       "      <td>98074</td>\n",
       "      <td>...</td>\n",
       "      <td>7503</td>\n",
       "      <td>0</td>\n",
       "      <td>0</td>\n",
       "      <td>0</td>\n",
       "      <td>0</td>\n",
       "      <td>1</td>\n",
       "      <td>0</td>\n",
       "      <td>0</td>\n",
       "      <td>0</td>\n",
       "      <td>0</td>\n",
       "    </tr>\n",
       "  </tbody>\n",
       "</table>\n",
       "<p>5 rows × 21 columns</p>\n",
       "</div>"
      ],
      "text/plain": [
       "               price  bedrooms  bathrooms  sqft_living  sqft_lot  floors  \\\n",
       "id                                                                         \n",
       "7129300520  221900.0         3       1.00         1180      5650     1.0   \n",
       "6414100192  538000.0         3       2.25         2570      7242     2.0   \n",
       "5631500400  180000.0         2       1.00          770     10000     1.0   \n",
       "2487200875  604000.0         4       3.00         1960      5000     1.0   \n",
       "1954400510  510000.0         3       2.00         1680      8080     1.0   \n",
       "\n",
       "            grade  sqft_basement  yr_built  zipcode  ...  sqft_lot15  \\\n",
       "id                                                   ...               \n",
       "7129300520    7.0            0.0      1955    98178  ...        5650   \n",
       "6414100192    7.0          400.0      1951    98125  ...        7639   \n",
       "5631500400    6.0            0.0      1933    98028  ...        8062   \n",
       "2487200875    7.0          910.0      1965    98136  ...        5000   \n",
       "1954400510    8.0            0.0      1987    98074  ...        7503   \n",
       "\n",
       "            waterfront_YES  view_EXCELLENT  view_FAIR  view_GOOD  view_NONE  \\\n",
       "id                                                                            \n",
       "7129300520               0               0          0          0          1   \n",
       "6414100192               0               0          0          0          1   \n",
       "5631500400               0               0          0          0          1   \n",
       "2487200875               0               0          0          0          1   \n",
       "1954400510               0               0          0          0          1   \n",
       "\n",
       "            condition_Fair  condition_Good  condition_Poor  \\\n",
       "id                                                           \n",
       "7129300520               0               0               0   \n",
       "6414100192               0               0               0   \n",
       "5631500400               0               0               0   \n",
       "2487200875               0               0               0   \n",
       "1954400510               0               0               0   \n",
       "\n",
       "            condition_Very Good  \n",
       "id                               \n",
       "7129300520                    0  \n",
       "6414100192                    0  \n",
       "5631500400                    0  \n",
       "2487200875                    1  \n",
       "1954400510                    0  \n",
       "\n",
       "[5 rows x 21 columns]"
      ]
     },
     "execution_count": 32,
     "metadata": {},
     "output_type": "execute_result"
    }
   ],
   "source": [
    "# One hot encoding categorical variables\n",
    "kc_house_data_dummies = pd.get_dummies(kc_house_data, columns=['waterfront', 'view', 'condition'], drop_first=True)\n",
    "kc_house_data_dummies.head()"
   ]
  },
  {
   "cell_type": "markdown",
   "metadata": {},
   "source": [
    "### Build first model"
   ]
  },
  {
   "cell_type": "code",
   "execution_count": 33,
   "metadata": {
    "scrolled": false
   },
   "outputs": [
    {
     "data": {
      "text/html": [
       "<div>\n",
       "<style scoped>\n",
       "    .dataframe tbody tr th:only-of-type {\n",
       "        vertical-align: middle;\n",
       "    }\n",
       "\n",
       "    .dataframe tbody tr th {\n",
       "        vertical-align: top;\n",
       "    }\n",
       "\n",
       "    .dataframe thead th {\n",
       "        text-align: right;\n",
       "    }\n",
       "</style>\n",
       "<table border=\"1\" class=\"dataframe\">\n",
       "  <thead>\n",
       "    <tr style=\"text-align: right;\">\n",
       "      <th></th>\n",
       "      <th>price</th>\n",
       "      <th>bedrooms</th>\n",
       "      <th>bathrooms</th>\n",
       "      <th>sqft_living</th>\n",
       "      <th>sqft_lot</th>\n",
       "      <th>floors</th>\n",
       "      <th>waterfront</th>\n",
       "      <th>view</th>\n",
       "      <th>condition</th>\n",
       "      <th>grade</th>\n",
       "      <th>sqft_basement</th>\n",
       "      <th>yr_built</th>\n",
       "      <th>zipcode</th>\n",
       "      <th>sqft_living15</th>\n",
       "      <th>sqft_lot15</th>\n",
       "    </tr>\n",
       "  </thead>\n",
       "  <tbody>\n",
       "    <tr>\n",
       "      <th>0</th>\n",
       "      <td>221900.0</td>\n",
       "      <td>3</td>\n",
       "      <td>1.00</td>\n",
       "      <td>1180</td>\n",
       "      <td>5650</td>\n",
       "      <td>1.0</td>\n",
       "      <td>NO</td>\n",
       "      <td>NONE</td>\n",
       "      <td>Average</td>\n",
       "      <td>7.0</td>\n",
       "      <td>0.0</td>\n",
       "      <td>1955</td>\n",
       "      <td>98178</td>\n",
       "      <td>1340</td>\n",
       "      <td>5650</td>\n",
       "    </tr>\n",
       "    <tr>\n",
       "      <th>1</th>\n",
       "      <td>538000.0</td>\n",
       "      <td>3</td>\n",
       "      <td>2.25</td>\n",
       "      <td>2570</td>\n",
       "      <td>7242</td>\n",
       "      <td>2.0</td>\n",
       "      <td>NO</td>\n",
       "      <td>NONE</td>\n",
       "      <td>Average</td>\n",
       "      <td>7.0</td>\n",
       "      <td>400.0</td>\n",
       "      <td>1951</td>\n",
       "      <td>98125</td>\n",
       "      <td>1690</td>\n",
       "      <td>7639</td>\n",
       "    </tr>\n",
       "    <tr>\n",
       "      <th>2</th>\n",
       "      <td>180000.0</td>\n",
       "      <td>2</td>\n",
       "      <td>1.00</td>\n",
       "      <td>770</td>\n",
       "      <td>10000</td>\n",
       "      <td>1.0</td>\n",
       "      <td>NO</td>\n",
       "      <td>NONE</td>\n",
       "      <td>Average</td>\n",
       "      <td>6.0</td>\n",
       "      <td>0.0</td>\n",
       "      <td>1933</td>\n",
       "      <td>98028</td>\n",
       "      <td>2720</td>\n",
       "      <td>8062</td>\n",
       "    </tr>\n",
       "    <tr>\n",
       "      <th>3</th>\n",
       "      <td>604000.0</td>\n",
       "      <td>4</td>\n",
       "      <td>3.00</td>\n",
       "      <td>1960</td>\n",
       "      <td>5000</td>\n",
       "      <td>1.0</td>\n",
       "      <td>NO</td>\n",
       "      <td>NONE</td>\n",
       "      <td>Very Good</td>\n",
       "      <td>7.0</td>\n",
       "      <td>910.0</td>\n",
       "      <td>1965</td>\n",
       "      <td>98136</td>\n",
       "      <td>1360</td>\n",
       "      <td>5000</td>\n",
       "    </tr>\n",
       "    <tr>\n",
       "      <th>4</th>\n",
       "      <td>510000.0</td>\n",
       "      <td>3</td>\n",
       "      <td>2.00</td>\n",
       "      <td>1680</td>\n",
       "      <td>8080</td>\n",
       "      <td>1.0</td>\n",
       "      <td>NO</td>\n",
       "      <td>NONE</td>\n",
       "      <td>Average</td>\n",
       "      <td>8.0</td>\n",
       "      <td>0.0</td>\n",
       "      <td>1987</td>\n",
       "      <td>98074</td>\n",
       "      <td>1800</td>\n",
       "      <td>7503</td>\n",
       "    </tr>\n",
       "    <tr>\n",
       "      <th>...</th>\n",
       "      <td>...</td>\n",
       "      <td>...</td>\n",
       "      <td>...</td>\n",
       "      <td>...</td>\n",
       "      <td>...</td>\n",
       "      <td>...</td>\n",
       "      <td>...</td>\n",
       "      <td>...</td>\n",
       "      <td>...</td>\n",
       "      <td>...</td>\n",
       "      <td>...</td>\n",
       "      <td>...</td>\n",
       "      <td>...</td>\n",
       "      <td>...</td>\n",
       "      <td>...</td>\n",
       "    </tr>\n",
       "    <tr>\n",
       "      <th>21591</th>\n",
       "      <td>360000.0</td>\n",
       "      <td>3</td>\n",
       "      <td>2.50</td>\n",
       "      <td>1530</td>\n",
       "      <td>1131</td>\n",
       "      <td>3.0</td>\n",
       "      <td>NO</td>\n",
       "      <td>NONE</td>\n",
       "      <td>Average</td>\n",
       "      <td>8.0</td>\n",
       "      <td>0.0</td>\n",
       "      <td>2009</td>\n",
       "      <td>98103</td>\n",
       "      <td>1530</td>\n",
       "      <td>1509</td>\n",
       "    </tr>\n",
       "    <tr>\n",
       "      <th>21592</th>\n",
       "      <td>400000.0</td>\n",
       "      <td>4</td>\n",
       "      <td>2.50</td>\n",
       "      <td>2310</td>\n",
       "      <td>5813</td>\n",
       "      <td>2.0</td>\n",
       "      <td>NO</td>\n",
       "      <td>NONE</td>\n",
       "      <td>Average</td>\n",
       "      <td>8.0</td>\n",
       "      <td>0.0</td>\n",
       "      <td>2014</td>\n",
       "      <td>98146</td>\n",
       "      <td>1830</td>\n",
       "      <td>7200</td>\n",
       "    </tr>\n",
       "    <tr>\n",
       "      <th>21593</th>\n",
       "      <td>402101.0</td>\n",
       "      <td>2</td>\n",
       "      <td>0.75</td>\n",
       "      <td>1020</td>\n",
       "      <td>1350</td>\n",
       "      <td>2.0</td>\n",
       "      <td>NO</td>\n",
       "      <td>NONE</td>\n",
       "      <td>Average</td>\n",
       "      <td>7.0</td>\n",
       "      <td>0.0</td>\n",
       "      <td>2009</td>\n",
       "      <td>98144</td>\n",
       "      <td>1020</td>\n",
       "      <td>2007</td>\n",
       "    </tr>\n",
       "    <tr>\n",
       "      <th>21594</th>\n",
       "      <td>400000.0</td>\n",
       "      <td>3</td>\n",
       "      <td>2.50</td>\n",
       "      <td>1600</td>\n",
       "      <td>2388</td>\n",
       "      <td>2.0</td>\n",
       "      <td>NO</td>\n",
       "      <td>NONE</td>\n",
       "      <td>Average</td>\n",
       "      <td>8.0</td>\n",
       "      <td>0.0</td>\n",
       "      <td>2004</td>\n",
       "      <td>98027</td>\n",
       "      <td>1410</td>\n",
       "      <td>1287</td>\n",
       "    </tr>\n",
       "    <tr>\n",
       "      <th>21595</th>\n",
       "      <td>325000.0</td>\n",
       "      <td>2</td>\n",
       "      <td>0.75</td>\n",
       "      <td>1020</td>\n",
       "      <td>1076</td>\n",
       "      <td>2.0</td>\n",
       "      <td>NO</td>\n",
       "      <td>NONE</td>\n",
       "      <td>Average</td>\n",
       "      <td>7.0</td>\n",
       "      <td>0.0</td>\n",
       "      <td>2008</td>\n",
       "      <td>98144</td>\n",
       "      <td>1020</td>\n",
       "      <td>1357</td>\n",
       "    </tr>\n",
       "  </tbody>\n",
       "</table>\n",
       "<p>21596 rows × 15 columns</p>\n",
       "</div>"
      ],
      "text/plain": [
       "          price  bedrooms  bathrooms  sqft_living  sqft_lot  floors  \\\n",
       "0      221900.0         3       1.00         1180      5650     1.0   \n",
       "1      538000.0         3       2.25         2570      7242     2.0   \n",
       "2      180000.0         2       1.00          770     10000     1.0   \n",
       "3      604000.0         4       3.00         1960      5000     1.0   \n",
       "4      510000.0         3       2.00         1680      8080     1.0   \n",
       "...         ...       ...        ...          ...       ...     ...   \n",
       "21591  360000.0         3       2.50         1530      1131     3.0   \n",
       "21592  400000.0         4       2.50         2310      5813     2.0   \n",
       "21593  402101.0         2       0.75         1020      1350     2.0   \n",
       "21594  400000.0         3       2.50         1600      2388     2.0   \n",
       "21595  325000.0         2       0.75         1020      1076     2.0   \n",
       "\n",
       "      waterfront  view  condition  grade  sqft_basement  yr_built  zipcode  \\\n",
       "0             NO  NONE    Average    7.0            0.0      1955    98178   \n",
       "1             NO  NONE    Average    7.0          400.0      1951    98125   \n",
       "2             NO  NONE    Average    6.0            0.0      1933    98028   \n",
       "3             NO  NONE  Very Good    7.0          910.0      1965    98136   \n",
       "4             NO  NONE    Average    8.0            0.0      1987    98074   \n",
       "...          ...   ...        ...    ...            ...       ...      ...   \n",
       "21591         NO  NONE    Average    8.0            0.0      2009    98103   \n",
       "21592         NO  NONE    Average    8.0            0.0      2014    98146   \n",
       "21593         NO  NONE    Average    7.0            0.0      2009    98144   \n",
       "21594         NO  NONE    Average    8.0            0.0      2004    98027   \n",
       "21595         NO  NONE    Average    7.0            0.0      2008    98144   \n",
       "\n",
       "       sqft_living15  sqft_lot15  \n",
       "0               1340        5650  \n",
       "1               1690        7639  \n",
       "2               2720        8062  \n",
       "3               1360        5000  \n",
       "4               1800        7503  \n",
       "...              ...         ...  \n",
       "21591           1530        1509  \n",
       "21592           1830        7200  \n",
       "21593           1020        2007  \n",
       "21594           1410        1287  \n",
       "21595           1020        1357  \n",
       "\n",
       "[21596 rows x 15 columns]"
      ]
     },
     "execution_count": 33,
     "metadata": {},
     "output_type": "execute_result"
    }
   ],
   "source": [
    "kc_house_data.reset_index(drop = True)"
   ]
  },
  {
   "cell_type": "code",
   "execution_count": 34,
   "metadata": {},
   "outputs": [],
   "source": [
    "X = kc_house_data_dummies.drop('price', axis=1)"
   ]
  },
  {
   "cell_type": "code",
   "execution_count": 35,
   "metadata": {},
   "outputs": [],
   "source": [
    "X = sm.add_constant(X)"
   ]
  },
  {
   "cell_type": "code",
   "execution_count": 36,
   "metadata": {},
   "outputs": [],
   "source": [
    "y1 = kc_house_data['price']"
   ]
  },
  {
   "cell_type": "code",
   "execution_count": 37,
   "metadata": {},
   "outputs": [],
   "source": [
    "firstmodel = sm.OLS(y1, X).fit()"
   ]
  },
  {
   "cell_type": "code",
   "execution_count": 38,
   "metadata": {
    "scrolled": false
   },
   "outputs": [
    {
     "data": {
      "text/html": [
       "<table class=\"simpletable\">\n",
       "<caption>OLS Regression Results</caption>\n",
       "<tr>\n",
       "  <th>Dep. Variable:</th>          <td>price</td>      <th>  R-squared:         </th>  <td>   0.657</td>  \n",
       "</tr>\n",
       "<tr>\n",
       "  <th>Model:</th>                   <td>OLS</td>       <th>  Adj. R-squared:    </th>  <td>   0.657</td>  \n",
       "</tr>\n",
       "<tr>\n",
       "  <th>Method:</th>             <td>Least Squares</td>  <th>  F-statistic:       </th>  <td>   2065.</td>  \n",
       "</tr>\n",
       "<tr>\n",
       "  <th>Date:</th>             <td>Fri, 03 Jun 2022</td> <th>  Prob (F-statistic):</th>   <td>  0.00</td>   \n",
       "</tr>\n",
       "<tr>\n",
       "  <th>Time:</th>                 <td>11:48:24</td>     <th>  Log-Likelihood:    </th> <td>-2.9583e+05</td>\n",
       "</tr>\n",
       "<tr>\n",
       "  <th>No. Observations:</th>      <td> 21596</td>      <th>  AIC:               </th>  <td>5.917e+05</td> \n",
       "</tr>\n",
       "<tr>\n",
       "  <th>Df Residuals:</th>          <td> 21575</td>      <th>  BIC:               </th>  <td>5.919e+05</td> \n",
       "</tr>\n",
       "<tr>\n",
       "  <th>Df Model:</th>              <td>    20</td>      <th>                     </th>      <td> </td>     \n",
       "</tr>\n",
       "<tr>\n",
       "  <th>Covariance Type:</th>      <td>nonrobust</td>    <th>                     </th>      <td> </td>     \n",
       "</tr>\n",
       "</table>\n",
       "<table class=\"simpletable\">\n",
       "<tr>\n",
       "           <td></td>              <th>coef</th>     <th>std err</th>      <th>t</th>      <th>P>|t|</th>  <th>[0.025</th>    <th>0.975]</th>  \n",
       "</tr>\n",
       "<tr>\n",
       "  <th>const</th>               <td> 9.217e+06</td> <td> 3.13e+06</td> <td>    2.948</td> <td> 0.003</td> <td> 3.09e+06</td> <td> 1.53e+07</td>\n",
       "</tr>\n",
       "<tr>\n",
       "  <th>bedrooms</th>            <td>-4.319e+04</td> <td> 2116.948</td> <td>  -20.402</td> <td> 0.000</td> <td>-4.73e+04</td> <td> -3.9e+04</td>\n",
       "</tr>\n",
       "<tr>\n",
       "  <th>bathrooms</th>           <td> 4.795e+04</td> <td> 3473.770</td> <td>   13.804</td> <td> 0.000</td> <td> 4.11e+04</td> <td> 5.48e+04</td>\n",
       "</tr>\n",
       "<tr>\n",
       "  <th>sqft_living</th>         <td>  161.4337</td> <td>    3.900</td> <td>   41.396</td> <td> 0.000</td> <td>  153.790</td> <td>  169.078</td>\n",
       "</tr>\n",
       "<tr>\n",
       "  <th>sqft_lot</th>            <td>    0.0037</td> <td>    0.051</td> <td>    0.072</td> <td> 0.943</td> <td>   -0.097</td> <td>    0.104</td>\n",
       "</tr>\n",
       "<tr>\n",
       "  <th>floors</th>              <td> 2.805e+04</td> <td> 3814.276</td> <td>    7.355</td> <td> 0.000</td> <td> 2.06e+04</td> <td> 3.55e+04</td>\n",
       "</tr>\n",
       "<tr>\n",
       "  <th>grade</th>               <td> 1.206e+05</td> <td> 2260.715</td> <td>   53.364</td> <td> 0.000</td> <td> 1.16e+05</td> <td> 1.25e+05</td>\n",
       "</tr>\n",
       "<tr>\n",
       "  <th>sqft_basement</th>       <td>    7.9696</td> <td>    4.534</td> <td>    1.758</td> <td> 0.079</td> <td>   -0.917</td> <td>   16.856</td>\n",
       "</tr>\n",
       "<tr>\n",
       "  <th>yr_built</th>            <td>-3662.3509</td> <td>   71.123</td> <td>  -51.494</td> <td> 0.000</td> <td>-3801.756</td> <td>-3522.945</td>\n",
       "</tr>\n",
       "<tr>\n",
       "  <th>zipcode</th>             <td>  -27.8387</td> <td>   31.403</td> <td>   -0.886</td> <td> 0.375</td> <td>  -89.391</td> <td>   33.714</td>\n",
       "</tr>\n",
       "<tr>\n",
       "  <th>sqft_living15</th>       <td>   24.0042</td> <td>    3.639</td> <td>    6.597</td> <td> 0.000</td> <td>   16.872</td> <td>   31.137</td>\n",
       "</tr>\n",
       "<tr>\n",
       "  <th>sqft_lot15</th>          <td>   -0.5522</td> <td>    0.078</td> <td>   -7.061</td> <td> 0.000</td> <td>   -0.705</td> <td>   -0.399</td>\n",
       "</tr>\n",
       "<tr>\n",
       "  <th>waterfront_YES</th>      <td> 5.272e+05</td> <td> 2.18e+04</td> <td>   24.178</td> <td> 0.000</td> <td> 4.84e+05</td> <td>  5.7e+05</td>\n",
       "</tr>\n",
       "<tr>\n",
       "  <th>view_EXCELLENT</th>      <td> 2.341e+05</td> <td> 1.63e+04</td> <td>   14.349</td> <td> 0.000</td> <td> 2.02e+05</td> <td> 2.66e+05</td>\n",
       "</tr>\n",
       "<tr>\n",
       "  <th>view_FAIR</th>           <td> 5.623e+04</td> <td> 1.38e+04</td> <td>    4.086</td> <td> 0.000</td> <td> 2.93e+04</td> <td> 8.32e+04</td>\n",
       "</tr>\n",
       "<tr>\n",
       "  <th>view_GOOD</th>           <td> 5.917e+04</td> <td> 1.19e+04</td> <td>    4.985</td> <td> 0.000</td> <td> 3.59e+04</td> <td> 8.24e+04</td>\n",
       "</tr>\n",
       "<tr>\n",
       "  <th>view_NONE</th>           <td>-4.878e+04</td> <td> 7352.763</td> <td>   -6.635</td> <td> 0.000</td> <td>-6.32e+04</td> <td>-3.44e+04</td>\n",
       "</tr>\n",
       "<tr>\n",
       "  <th>condition_Fair</th>      <td>-3568.5555</td> <td> 1.68e+04</td> <td>   -0.213</td> <td> 0.831</td> <td>-3.64e+04</td> <td> 2.93e+04</td>\n",
       "</tr>\n",
       "<tr>\n",
       "  <th>condition_Good</th>      <td> 1.131e+04</td> <td> 3687.691</td> <td>    3.067</td> <td> 0.002</td> <td> 4081.673</td> <td> 1.85e+04</td>\n",
       "</tr>\n",
       "<tr>\n",
       "  <th>condition_Poor</th>      <td>-7961.9140</td> <td> 4.02e+04</td> <td>   -0.198</td> <td> 0.843</td> <td>-8.68e+04</td> <td> 7.08e+04</td>\n",
       "</tr>\n",
       "<tr>\n",
       "  <th>condition_Very Good</th> <td> 4.726e+04</td> <td> 5894.687</td> <td>    8.017</td> <td> 0.000</td> <td> 3.57e+04</td> <td> 5.88e+04</td>\n",
       "</tr>\n",
       "</table>\n",
       "<table class=\"simpletable\">\n",
       "<tr>\n",
       "  <th>Omnibus:</th>       <td>16247.939</td> <th>  Durbin-Watson:     </th>  <td>   1.975</td>  \n",
       "</tr>\n",
       "<tr>\n",
       "  <th>Prob(Omnibus):</th>  <td> 0.000</td>   <th>  Jarque-Bera (JB):  </th> <td>1187145.922</td>\n",
       "</tr>\n",
       "<tr>\n",
       "  <th>Skew:</th>           <td> 3.009</td>   <th>  Prob(JB):          </th>  <td>    0.00</td>  \n",
       "</tr>\n",
       "<tr>\n",
       "  <th>Kurtosis:</th>       <td>38.820</td>   <th>  Cond. No.          </th>  <td>2.15e+08</td>  \n",
       "</tr>\n",
       "</table><br/><br/>Notes:<br/>[1] Standard Errors assume that the covariance matrix of the errors is correctly specified.<br/>[2] The condition number is large, 2.15e+08. This might indicate that there are<br/>strong multicollinearity or other numerical problems."
      ],
      "text/plain": [
       "<class 'statsmodels.iolib.summary.Summary'>\n",
       "\"\"\"\n",
       "                            OLS Regression Results                            \n",
       "==============================================================================\n",
       "Dep. Variable:                  price   R-squared:                       0.657\n",
       "Model:                            OLS   Adj. R-squared:                  0.657\n",
       "Method:                 Least Squares   F-statistic:                     2065.\n",
       "Date:                Fri, 03 Jun 2022   Prob (F-statistic):               0.00\n",
       "Time:                        11:48:24   Log-Likelihood:            -2.9583e+05\n",
       "No. Observations:               21596   AIC:                         5.917e+05\n",
       "Df Residuals:                   21575   BIC:                         5.919e+05\n",
       "Df Model:                          20                                         \n",
       "Covariance Type:            nonrobust                                         \n",
       "=======================================================================================\n",
       "                          coef    std err          t      P>|t|      [0.025      0.975]\n",
       "---------------------------------------------------------------------------------------\n",
       "const                9.217e+06   3.13e+06      2.948      0.003    3.09e+06    1.53e+07\n",
       "bedrooms            -4.319e+04   2116.948    -20.402      0.000   -4.73e+04    -3.9e+04\n",
       "bathrooms            4.795e+04   3473.770     13.804      0.000    4.11e+04    5.48e+04\n",
       "sqft_living           161.4337      3.900     41.396      0.000     153.790     169.078\n",
       "sqft_lot                0.0037      0.051      0.072      0.943      -0.097       0.104\n",
       "floors               2.805e+04   3814.276      7.355      0.000    2.06e+04    3.55e+04\n",
       "grade                1.206e+05   2260.715     53.364      0.000    1.16e+05    1.25e+05\n",
       "sqft_basement           7.9696      4.534      1.758      0.079      -0.917      16.856\n",
       "yr_built            -3662.3509     71.123    -51.494      0.000   -3801.756   -3522.945\n",
       "zipcode               -27.8387     31.403     -0.886      0.375     -89.391      33.714\n",
       "sqft_living15          24.0042      3.639      6.597      0.000      16.872      31.137\n",
       "sqft_lot15             -0.5522      0.078     -7.061      0.000      -0.705      -0.399\n",
       "waterfront_YES       5.272e+05   2.18e+04     24.178      0.000    4.84e+05     5.7e+05\n",
       "view_EXCELLENT       2.341e+05   1.63e+04     14.349      0.000    2.02e+05    2.66e+05\n",
       "view_FAIR            5.623e+04   1.38e+04      4.086      0.000    2.93e+04    8.32e+04\n",
       "view_GOOD            5.917e+04   1.19e+04      4.985      0.000    3.59e+04    8.24e+04\n",
       "view_NONE           -4.878e+04   7352.763     -6.635      0.000   -6.32e+04   -3.44e+04\n",
       "condition_Fair      -3568.5555   1.68e+04     -0.213      0.831   -3.64e+04    2.93e+04\n",
       "condition_Good       1.131e+04   3687.691      3.067      0.002    4081.673    1.85e+04\n",
       "condition_Poor      -7961.9140   4.02e+04     -0.198      0.843   -8.68e+04    7.08e+04\n",
       "condition_Very Good  4.726e+04   5894.687      8.017      0.000    3.57e+04    5.88e+04\n",
       "==============================================================================\n",
       "Omnibus:                    16247.939   Durbin-Watson:                   1.975\n",
       "Prob(Omnibus):                  0.000   Jarque-Bera (JB):          1187145.922\n",
       "Skew:                           3.009   Prob(JB):                         0.00\n",
       "Kurtosis:                      38.820   Cond. No.                     2.15e+08\n",
       "==============================================================================\n",
       "\n",
       "Notes:\n",
       "[1] Standard Errors assume that the covariance matrix of the errors is correctly specified.\n",
       "[2] The condition number is large, 2.15e+08. This might indicate that there are\n",
       "strong multicollinearity or other numerical problems.\n",
       "\"\"\""
      ]
     },
     "execution_count": 38,
     "metadata": {},
     "output_type": "execute_result"
    }
   ],
   "source": [
    "firstmodel.summary()"
   ]
  },
  {
   "cell_type": "code",
   "execution_count": 39,
   "metadata": {},
   "outputs": [
    {
     "data": {
      "image/png": "[encoded data removed]",
      "text/plain": [
       "<Figure size 432x288 with 1 Axes>"
      ]
     },
     "metadata": {
      "needs_background": "light"
     },
     "output_type": "display_data"
    }
   ],
   "source": [
    "sm.graphics.qqplot(firstmodel.resid, line='45',fit=True);"
   ]
  },
  {
   "cell_type": "code",
   "execution_count": 40,
   "metadata": {
    "scrolled": false
   },
   "outputs": [
    {
     "data": {
      "image/png": "[encoded data removed]",
      "text/plain": [
       "<Figure size 432x288 with 1 Axes>"
      ]
     },
     "metadata": {
      "needs_background": "light"
     },
     "output_type": "display_data"
    }
   ],
   "source": [
    "plt.scatter(kc_house_data['price'],firstmodel.resid)\n",
    "plt.axhline(0);"
   ]
  },
  {
   "cell_type": "markdown",
   "metadata": {},
   "source": [
    "## First model:\n",
    "The first model has a high R-squared of 0.891 and low p-values on most of the predictors. The scatter plot is still too heteroscedastic and the Q-Q plot still shows that the data is not normally distributed and the model is not doing a good job of predicting values. My next steps are to build a new model with none of the predictors with high p-values and use the log of the dependent variable to normalize the data. "
   ]
  },
  {
   "cell_type": "markdown",
   "metadata": {},
   "source": [
    "### Build Final model"
   ]
  },
  {
   "cell_type": "code",
   "execution_count": 41,
   "metadata": {},
   "outputs": [],
   "source": [
    "# Remove high p values and add constant\n",
    "X.drop(['sqft_basement','sqft_lot','condition_Fair','condition_Good','condition_Poor','condition_Very Good', 'zipcode'], axis=1, inplace = True)"
   ]
  },
  {
   "cell_type": "code",
   "execution_count": 42,
   "metadata": {
    "scrolled": false
   },
   "outputs": [],
   "source": [
    "predictors = sm.add_constant(X)"
   ]
  },
  {
   "cell_type": "code",
   "execution_count": 43,
   "metadata": {
    "scrolled": true
   },
   "outputs": [
    {
     "data": {
      "image/png": "[encoded data removed]",
      "text/plain": [
       "<Figure size 432x288 with 1 Axes>"
      ]
     },
     "metadata": {
      "needs_background": "light"
     },
     "output_type": "display_data"
    }
   ],
   "source": [
    "#not normally distributed\n",
    "y1.hist();"
   ]
  },
  {
   "cell_type": "markdown",
   "metadata": {},
   "source": [
    "The `price` column data is skewed to the left. This may cause bias in the model so I am going to buuld a model with the log of the `price` data. I am going to log transform the dependent variable to address assumptions and make sure they look normal."
   ]
  },
  {
   "cell_type": "code",
   "execution_count": 44,
   "metadata": {
    "scrolled": true
   },
   "outputs": [
    {
     "data": {
      "image/png": "[encoded data removed]",
      "text/plain": [
       "<Figure size 432x288 with 1 Axes>"
      ]
     },
     "metadata": {
      "needs_background": "light"
     },
     "output_type": "display_data"
    }
   ],
   "source": [
    "# log transform\n",
    "y_scld = np.log(y1)\n",
    "y_scld.hist();"
   ]
  },
  {
   "cell_type": "markdown",
   "metadata": {},
   "source": [
    "After getting the log of the `price` column data it is normally distributed."
   ]
  },
  {
   "cell_type": "code",
   "execution_count": 45,
   "metadata": {
    "scrolled": false
   },
   "outputs": [
    {
     "data": {
      "text/html": [
       "<table class=\"simpletable\">\n",
       "<caption>OLS Regression Results</caption>\n",
       "<tr>\n",
       "  <th>Dep. Variable:</th>          <td>price</td>      <th>  R-squared:         </th> <td>   0.650</td> \n",
       "</tr>\n",
       "<tr>\n",
       "  <th>Model:</th>                   <td>OLS</td>       <th>  Adj. R-squared:    </th> <td>   0.650</td> \n",
       "</tr>\n",
       "<tr>\n",
       "  <th>Method:</th>             <td>Least Squares</td>  <th>  F-statistic:       </th> <td>   3084.</td> \n",
       "</tr>\n",
       "<tr>\n",
       "  <th>Date:</th>             <td>Fri, 03 Jun 2022</td> <th>  Prob (F-statistic):</th>  <td>  0.00</td>  \n",
       "</tr>\n",
       "<tr>\n",
       "  <th>Time:</th>                 <td>11:48:25</td>     <th>  Log-Likelihood:    </th> <td> -5454.1</td> \n",
       "</tr>\n",
       "<tr>\n",
       "  <th>No. Observations:</th>      <td> 21596</td>      <th>  AIC:               </th> <td>1.094e+04</td>\n",
       "</tr>\n",
       "<tr>\n",
       "  <th>Df Residuals:</th>          <td> 21582</td>      <th>  BIC:               </th> <td>1.105e+04</td>\n",
       "</tr>\n",
       "<tr>\n",
       "  <th>Df Model:</th>              <td>    13</td>      <th>                     </th>     <td> </td>    \n",
       "</tr>\n",
       "<tr>\n",
       "  <th>Covariance Type:</th>      <td>nonrobust</td>    <th>                     </th>     <td> </td>    \n",
       "</tr>\n",
       "</table>\n",
       "<table class=\"simpletable\">\n",
       "<tr>\n",
       "         <td></td>           <th>coef</th>     <th>std err</th>      <th>t</th>      <th>P>|t|</th>  <th>[0.025</th>    <th>0.975]</th>  \n",
       "</tr>\n",
       "<tr>\n",
       "  <th>const</th>          <td>   22.6713</td> <td>    0.176</td> <td>  129.038</td> <td> 0.000</td> <td>   22.327</td> <td>   23.016</td>\n",
       "</tr>\n",
       "<tr>\n",
       "  <th>bedrooms</th>       <td>   -0.0241</td> <td>    0.003</td> <td>   -7.883</td> <td> 0.000</td> <td>   -0.030</td> <td>   -0.018</td>\n",
       "</tr>\n",
       "<tr>\n",
       "  <th>bathrooms</th>      <td>    0.0956</td> <td>    0.005</td> <td>   19.343</td> <td> 0.000</td> <td>    0.086</td> <td>    0.105</td>\n",
       "</tr>\n",
       "<tr>\n",
       "  <th>sqft_living</th>    <td>    0.0001</td> <td>  5.2e-06</td> <td>   25.067</td> <td> 0.000</td> <td>    0.000</td> <td>    0.000</td>\n",
       "</tr>\n",
       "<tr>\n",
       "  <th>floors</th>         <td>    0.0833</td> <td>    0.005</td> <td>   16.951</td> <td> 0.000</td> <td>    0.074</td> <td>    0.093</td>\n",
       "</tr>\n",
       "<tr>\n",
       "  <th>grade</th>          <td>    0.2042</td> <td>    0.003</td> <td>   62.950</td> <td> 0.000</td> <td>    0.198</td> <td>    0.211</td>\n",
       "</tr>\n",
       "<tr>\n",
       "  <th>yr_built</th>       <td>   -0.0060</td> <td> 9.31e-05</td> <td>  -64.376</td> <td> 0.000</td> <td>   -0.006</td> <td>   -0.006</td>\n",
       "</tr>\n",
       "<tr>\n",
       "  <th>sqft_living15</th>  <td> 9.487e-05</td> <td> 5.09e-06</td> <td>   18.643</td> <td> 0.000</td> <td> 8.49e-05</td> <td>    0.000</td>\n",
       "</tr>\n",
       "<tr>\n",
       "  <th>sqft_lot15</th>     <td>-3.791e-07</td> <td> 8.03e-08</td> <td>   -4.721</td> <td> 0.000</td> <td>-5.37e-07</td> <td>-2.22e-07</td>\n",
       "</tr>\n",
       "<tr>\n",
       "  <th>waterfront_YES</th> <td>    0.3176</td> <td>    0.032</td> <td>   10.068</td> <td> 0.000</td> <td>    0.256</td> <td>    0.379</td>\n",
       "</tr>\n",
       "<tr>\n",
       "  <th>view_EXCELLENT</th> <td>    0.1438</td> <td>    0.024</td> <td>    6.102</td> <td> 0.000</td> <td>    0.098</td> <td>    0.190</td>\n",
       "</tr>\n",
       "<tr>\n",
       "  <th>view_FAIR</th>      <td>    0.0822</td> <td>    0.020</td> <td>    4.131</td> <td> 0.000</td> <td>    0.043</td> <td>    0.121</td>\n",
       "</tr>\n",
       "<tr>\n",
       "  <th>view_GOOD</th>      <td>    0.0261</td> <td>    0.017</td> <td>    1.520</td> <td> 0.128</td> <td>   -0.008</td> <td>    0.060</td>\n",
       "</tr>\n",
       "<tr>\n",
       "  <th>view_NONE</th>      <td>   -0.0879</td> <td>    0.011</td> <td>   -8.318</td> <td> 0.000</td> <td>   -0.109</td> <td>   -0.067</td>\n",
       "</tr>\n",
       "</table>\n",
       "<table class=\"simpletable\">\n",
       "<tr>\n",
       "  <th>Omnibus:</th>       <td>112.741</td> <th>  Durbin-Watson:     </th> <td>   1.959</td>\n",
       "</tr>\n",
       "<tr>\n",
       "  <th>Prob(Omnibus):</th> <td> 0.000</td>  <th>  Jarque-Bera (JB):  </th> <td> 121.160</td>\n",
       "</tr>\n",
       "<tr>\n",
       "  <th>Skew:</th>          <td>-0.147</td>  <th>  Prob(JB):          </th> <td>4.90e-27</td>\n",
       "</tr>\n",
       "<tr>\n",
       "  <th>Kurtosis:</th>      <td> 3.219</td>  <th>  Cond. No.          </th> <td>2.50e+06</td>\n",
       "</tr>\n",
       "</table><br/><br/>Notes:<br/>[1] Standard Errors assume that the covariance matrix of the errors is correctly specified.<br/>[2] The condition number is large, 2.5e+06. This might indicate that there are<br/>strong multicollinearity or other numerical problems."
      ],
      "text/plain": [
       "<class 'statsmodels.iolib.summary.Summary'>\n",
       "\"\"\"\n",
       "                            OLS Regression Results                            \n",
       "==============================================================================\n",
       "Dep. Variable:                  price   R-squared:                       0.650\n",
       "Model:                            OLS   Adj. R-squared:                  0.650\n",
       "Method:                 Least Squares   F-statistic:                     3084.\n",
       "Date:                Fri, 03 Jun 2022   Prob (F-statistic):               0.00\n",
       "Time:                        11:48:25   Log-Likelihood:                -5454.1\n",
       "No. Observations:               21596   AIC:                         1.094e+04\n",
       "Df Residuals:                   21582   BIC:                         1.105e+04\n",
       "Df Model:                          13                                         \n",
       "Covariance Type:            nonrobust                                         \n",
       "==================================================================================\n",
       "                     coef    std err          t      P>|t|      [0.025      0.975]\n",
       "----------------------------------------------------------------------------------\n",
       "const             22.6713      0.176    129.038      0.000      22.327      23.016\n",
       "bedrooms          -0.0241      0.003     -7.883      0.000      -0.030      -0.018\n",
       "bathrooms          0.0956      0.005     19.343      0.000       0.086       0.105\n",
       "sqft_living        0.0001    5.2e-06     25.067      0.000       0.000       0.000\n",
       "floors             0.0833      0.005     16.951      0.000       0.074       0.093\n",
       "grade              0.2042      0.003     62.950      0.000       0.198       0.211\n",
       "yr_built          -0.0060   9.31e-05    -64.376      0.000      -0.006      -0.006\n",
       "sqft_living15   9.487e-05   5.09e-06     18.643      0.000    8.49e-05       0.000\n",
       "sqft_lot15     -3.791e-07   8.03e-08     -4.721      0.000   -5.37e-07   -2.22e-07\n",
       "waterfront_YES     0.3176      0.032     10.068      0.000       0.256       0.379\n",
       "view_EXCELLENT     0.1438      0.024      6.102      0.000       0.098       0.190\n",
       "view_FAIR          0.0822      0.020      4.131      0.000       0.043       0.121\n",
       "view_GOOD          0.0261      0.017      1.520      0.128      -0.008       0.060\n",
       "view_NONE         -0.0879      0.011     -8.318      0.000      -0.109      -0.067\n",
       "==============================================================================\n",
       "Omnibus:                      112.741   Durbin-Watson:                   1.959\n",
       "Prob(Omnibus):                  0.000   Jarque-Bera (JB):              121.160\n",
       "Skew:                          -0.147   Prob(JB):                     4.90e-27\n",
       "Kurtosis:                       3.219   Cond. No.                     2.50e+06\n",
       "==============================================================================\n",
       "\n",
       "Notes:\n",
       "[1] Standard Errors assume that the covariance matrix of the errors is correctly specified.\n",
       "[2] The condition number is large, 2.5e+06. This might indicate that there are\n",
       "strong multicollinearity or other numerical problems.\n",
       "\"\"\""
      ]
     },
     "execution_count": 45,
     "metadata": {},
     "output_type": "execute_result"
    }
   ],
   "source": [
    "logmodel = sm.OLS(y_scld, predictors).fit()\n",
    "logmodel.summary()"
   ]
  },
  {
   "cell_type": "markdown",
   "metadata": {},
   "source": [
    "On the final model the R-squared score dropped to 0.650 but most the predictors have a low p-value. The `view_GOOD` column does have a high p-value but since it is apart of a one hot encoded variable I am going to leave it in because the other elements have low p-values and are highly correlated with the price."
   ]
  },
  {
   "cell_type": "code",
   "execution_count": 46,
   "metadata": {
    "scrolled": false
   },
   "outputs": [
    {
     "data": {
      "image/png": "[encoded data removed]",
      "text/plain": [
       "<Figure size 432x288 with 1 Axes>"
      ]
     },
     "metadata": {
      "needs_background": "light"
     },
     "output_type": "display_data"
    }
   ],
   "source": [
    "sm.graphics.qqplot(logmodel.resid, line='45',fit=True);"
   ]
  },
  {
   "cell_type": "markdown",
   "metadata": {},
   "source": [
    "The points are finally close to the line meaning the model is doing a good job of predicting the values in the data. "
   ]
  },
  {
   "cell_type": "code",
   "execution_count": 47,
   "metadata": {
    "scrolled": false
   },
   "outputs": [
    {
     "data": {
      "image/png": "[encoded data removed]",
      "text/plain": [
       "<Figure size 432x288 with 1 Axes>"
      ]
     },
     "metadata": {
      "needs_background": "light"
     },
     "output_type": "display_data"
    }
   ],
   "source": [
    "plt.scatter(kc_house_data['price'],logmodel.resid)\n",
    "plt.axhline(0);\n",
    "#Mainly homoscedastic return with few outliers"
   ]
  },
  {
   "cell_type": "code",
   "execution_count": 48,
   "metadata": {
    "scrolled": true
   },
   "outputs": [
    {
     "data": {
      "text/plain": [
       "view_NONE         -0.0879\n",
       "bedrooms          -0.0241\n",
       "yr_built          -0.0060\n",
       "sqft_lot15        -0.0000\n",
       "sqft_living15      0.0001\n",
       "sqft_living        0.0001\n",
       "view_GOOD          0.0261\n",
       "view_FAIR          0.0822\n",
       "floors             0.0833\n",
       "bathrooms          0.0956\n",
       "view_EXCELLENT     0.1438\n",
       "grade              0.2042\n",
       "waterfront_YES     0.3176\n",
       "const             22.6713\n",
       "dtype: float64"
      ]
     },
     "execution_count": 48,
     "metadata": {},
     "output_type": "execute_result"
    }
   ],
   "source": [
    "logmodel.params.sort_values().round(4)"
   ]
  },
  {
   "cell_type": "markdown",
   "metadata": {},
   "source": [
    "## Final model:\n",
    "On the final model the R-squared score dropped to 0.650 but most the predictors have a low p-value. The Q-Q plot shows the model is normally distributed and the scatter plot shows the data is homooscedastic. \n",
    "\n",
    "# Conclusion\n",
    "\n",
    "* Based on the coefficients of the final version of my model the `waterfront_YES`  column has the strongest positive impact on price \n",
    "* The coefficient is 0.3189 which means if the house is waterfront property the price should be 31.89% higher than if it was not waterfront \n",
    "* The `grade` column was the second highest coefficient, if the grade goes up a point the house value increases by 20.47%. I'd recommend renovators buy a house with a low grade because after renovating the property the grade will likely increase and each point is worth 20.47% of the house's sale price\n",
    "* The `bathrooms` column was the highest correlated column that could be practically renovated, adding a bathroom could increase house value by 9.5% \n",
    "* Based on the coefficients I would advise against adding a bedroom as according to the `bedrooms` column adding a bedroom could reduce the value of the house by 2.41%. If renovators were faced with the decision of turning a spare room into a bedroom or bathroom I would recommend they convert the room to a bathroom.\n",
    "\n",
    "\n",
    "### Next Steps\n",
    "\n",
    "Clearly more hours of analysis could provide further insights into how to improve likelihood of renovation success.\n",
    "\n",
    "Too many columns deal with factors that can’t be changed I would suggest building a regression model only out of columns with data that can be renovated. \n",
    "\n",
    "The `zipcode` column would better serve the model if it was replaced with a county column instead. County's could be one hot encoded and be easier for the model to interpret than zipcode.\n",
    "\n",
    "If I had more time I would also remove more outliers to reduce error and get a more accurate model."
   ]
  },
  {
   "cell_type": "code",
   "execution_count": null,
   "metadata": {},
   "outputs": [],
   "source": []
  }
 ],
 "metadata": {
  "kernelspec": {
   "display_name": "Python 3",
   "language": "python",
   "name": "python3"
  },
  "language_info": {
   "codemirror_mode": {
    "name": "ipython",
    "version": 3
   },
   "file_extension": ".py",
   "mimetype": "text/x-python",
   "name": "python",
   "nbconvert_exporter": "python",
   "pygments_lexer": "ipython3",
   "version": "3.8.5"
  }
 },
 "nbformat": 4,
 "nbformat_minor": 2
}
